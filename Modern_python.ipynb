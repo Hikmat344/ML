{
  "nbformat": 4,
  "nbformat_minor": 0,
  "metadata": {
    "colab": {
      "provenance": [],
      "authorship_tag": "ABX9TyP0cjYrLhJjfyt3bBuNq31k",
      "include_colab_link": true
    },
    "kernelspec": {
      "name": "python3",
      "display_name": "Python 3"
    },
    "language_info": {
      "name": "python"
    }
  },
  "cells": [
    {
      "cell_type": "markdown",
      "metadata": {
        "id": "view-in-github",
        "colab_type": "text"
      },
      "source": [
        "<a href=\"https://colab.research.google.com/github/Hikmee/ML/blob/master/Modern_python.ipynb\" target=\"_parent\"><img src=\"https://colab.research.google.com/assets/colab-badge.svg\" alt=\"Open In Colab\"/></a>"
      ]
    },
    {
      "cell_type": "markdown",
      "source": [
        "**Dictionary**"
      ],
      "metadata": {
        "id": "IVtuUXQfH2xw"
      }
    },
    {
      "cell_type": "code",
      "source": [
        "\n",
        "from typing import Dict , Union\n",
        "import pprint # to print objects dict etc in a decent way"
      ],
      "metadata": {
        "id": "_JNJlxVmIKei"
      },
      "execution_count": null,
      "outputs": []
    },
    {
      "cell_type": "code",
      "source": [
        "Key: Union[str,int] #custom type\n",
        "Value: Union[str, tuple, set ] # custom types\n",
        "data: Dict[str , str] ={\"name\":\"hikmat\" , \"fname\":\"Sibghat\"}\n",
        "data\n",
        "pprint.pprint(data)\n",
        "print(data[\"name\"]) # key should be passed as we have puted in dictionary like string in dict so will pas as str"
      ],
      "metadata": {
        "colab": {
          "base_uri": "https://localhost:8080/"
        },
        "id": "7HpBQ9OJH6vu",
        "outputId": "28e3a62c-b6f4-4de4-e739-69f02b8df0a3"
      },
      "execution_count": null,
      "outputs": [
        {
          "output_type": "stream",
          "name": "stdout",
          "text": [
            "{'fname': 'Sibghat', 'name': 'hikmat'}\n",
            "hikmat\n"
          ]
        }
      ]
    },
    {
      "cell_type": "markdown",
      "source": [
        "Note: Hashable means unique identification that can't be changed.\n",
        "\n",
        "key type should be hashable\n",
        "like we can't use list key and we can make tuple a key because it's hashable(immutable)"
      ],
      "metadata": {
        "id": "PLpr73o0LVL-"
      }
    },
    {
      "cell_type": "code",
      "source": [
        "#type casting\n",
        "\n",
        "abc: set = {1,2,3,4,}\n",
        "x : list[int] = list(abc)\n",
        "print(x)"
      ],
      "metadata": {
        "colab": {
          "base_uri": "https://localhost:8080/"
        },
        "id": "DgcdDM8LIVoV",
        "outputId": "fa2dc033-b73f-42e9-a526-a3b499ea7c1c"
      },
      "execution_count": null,
      "outputs": [
        {
          "output_type": "stream",
          "name": "stdout",
          "text": [
            "[1, 2, 3, 4]\n"
          ]
        }
      ]
    },
    {
      "cell_type": "markdown",
      "source": [
        "**SET data type:**\n",
        "data: set = {1,2,3,3,}\n",
        "note: we can't apply atration on set data type , for that we use typecasting\n",
        "NOTE: set takes dta nique, or it holds the unique data"
      ],
      "metadata": {
        "id": "LJMkHfZqSaqy"
      }
    },
    {
      "cell_type": "code",
      "source": [
        "#value addition in dict\n",
        "\n",
        "data[\"name\"] = \"Qudrat\""
      ],
      "metadata": {
        "id": "mjkh-XqqNDrf"
      },
      "execution_count": null,
      "outputs": []
    },
    {
      "cell_type": "code",
      "source": [
        "print(data.get(\"name\" , \"NA\")) # if key will be available so it will give the vauw if not availabe than not give an error , here will give na"
      ],
      "metadata": {
        "colab": {
          "base_uri": "https://localhost:8080/"
        },
        "id": "lyRFrVmUN-_i",
        "outputId": "75d90932-ddf2-4f11-88a4-cb59c4e7b229"
      },
      "execution_count": null,
      "outputs": [
        {
          "output_type": "stream",
          "name": "stdout",
          "text": [
            "Qudrat\n"
          ]
        }
      ]
    },
    {
      "cell_type": "markdown",
      "source": [
        "**data.keys** will give all keys\n",
        "**data.values** will give all values in dictionary\n",
        "**data.items** will give us both key and value of a dictionary in the orm of typle\n",
        "Note: all above are generator function means to execute it we should have to write it in for/ist loop\n"
      ],
      "metadata": {
        "id": "AN8z8Z_VSWlY"
      }
    },
    {
      "cell_type": "code",
      "source": [
        "{k : v for k,v in data.items()} # unzip the dictionay\n",
        "# we can also shufle keys and values by list comprehensive\n",
        "{v : k for k,v in data.items()}\n",
        "\n",
        "Key: Union[str,int]\n",
        "keys:list[str] = ['name' , 'fname' , 'ID']\n",
        "data:dict[Key,Value]={}\n",
        "print(data)\n",
        "\n",
        "ndata=data.fromkeys(keys) # this will add list to the dict as key , if key will not be present then we can print a default value like NA as well\n",
        "print(ndata)\n",
        "\n",
        "\n"
      ],
      "metadata": {
        "colab": {
          "base_uri": "https://localhost:8080/",
          "height": 254
        },
        "id": "29jqlIM9QsaW",
        "outputId": "1909ceff-e30f-4c38-e689-7b2d25262d9e"
      },
      "execution_count": null,
      "outputs": [
        {
          "output_type": "error",
          "ename": "NameError",
          "evalue": "ignored",
          "traceback": [
            "\u001b[0;31m---------------------------------------------------------------------------\u001b[0m",
            "\u001b[0;31mNameError\u001b[0m                                 Traceback (most recent call last)",
            "\u001b[0;32m<ipython-input-11-b3114c38f332>\u001b[0m in \u001b[0;36m<cell line: 7>\u001b[0;34m()\u001b[0m\n\u001b[1;32m      5\u001b[0m \u001b[0mKey\u001b[0m\u001b[0;34m:\u001b[0m \u001b[0mUnion\u001b[0m\u001b[0;34m[\u001b[0m\u001b[0mstr\u001b[0m\u001b[0;34m,\u001b[0m\u001b[0mint\u001b[0m\u001b[0;34m]\u001b[0m\u001b[0;34m\u001b[0m\u001b[0;34m\u001b[0m\u001b[0m\n\u001b[1;32m      6\u001b[0m \u001b[0mkeys\u001b[0m\u001b[0;34m:\u001b[0m\u001b[0mlist\u001b[0m\u001b[0;34m[\u001b[0m\u001b[0mstr\u001b[0m\u001b[0;34m]\u001b[0m \u001b[0;34m=\u001b[0m \u001b[0;34m[\u001b[0m\u001b[0;34m'name'\u001b[0m \u001b[0;34m,\u001b[0m \u001b[0;34m'fname'\u001b[0m \u001b[0;34m,\u001b[0m \u001b[0;34m'ID'\u001b[0m\u001b[0;34m]\u001b[0m\u001b[0;34m\u001b[0m\u001b[0;34m\u001b[0m\u001b[0m\n\u001b[0;32m----> 7\u001b[0;31m \u001b[0mdata\u001b[0m\u001b[0;34m:\u001b[0m\u001b[0mdict\u001b[0m\u001b[0;34m[\u001b[0m\u001b[0mKey\u001b[0m\u001b[0;34m,\u001b[0m\u001b[0mValue\u001b[0m\u001b[0;34m]\u001b[0m\u001b[0;34m=\u001b[0m\u001b[0;34m{\u001b[0m\u001b[0;34m}\u001b[0m\u001b[0;34m\u001b[0m\u001b[0;34m\u001b[0m\u001b[0m\n\u001b[0m\u001b[1;32m      8\u001b[0m \u001b[0mprint\u001b[0m\u001b[0;34m(\u001b[0m\u001b[0mdata\u001b[0m\u001b[0;34m)\u001b[0m\u001b[0;34m\u001b[0m\u001b[0;34m\u001b[0m\u001b[0m\n\u001b[1;32m      9\u001b[0m \u001b[0;34m\u001b[0m\u001b[0m\n",
            "\u001b[0;31mNameError\u001b[0m: name 'Key' is not defined"
          ]
        }
      ]
    },
    {
      "cell_type": "markdown",
      "source": [
        "**Class08**\n",
        "24/10/2023"
      ],
      "metadata": {
        "id": "u-9_WUUvL3yT"
      }
    },
    {
      "cell_type": "markdown",
      "source": [
        "TypeDict is basically used for making long types eg if we make dictionary in list (nested typing),\n",
        "and we import this from typing"
      ],
      "metadata": {
        "id": "Wh7cnKhfSYxY"
      }
    },
    {
      "cell_type": "code",
      "source": [
        "methods: list[str] = [m for m in dir(data) if \"__\" not in m]\n",
        "print(methods) # these all are dictionary methods"
      ],
      "metadata": {
        "id": "DFf3u5I4SNct",
        "colab": {
          "base_uri": "https://localhost:8080/"
        },
        "outputId": "32603824-c0d8-47dc-b1a4-c9927af6fc16"
      },
      "execution_count": null,
      "outputs": [
        {
          "output_type": "stream",
          "name": "stdout",
          "text": [
            "['clear', 'copy', 'fromkeys', 'get', 'items', 'keys', 'pop', 'popitem', 'setdefault', 'update', 'values']\n"
          ]
        }
      ]
    },
    {
      "cell_type": "code",
      "source": [
        "import pandas as pd\n",
        "from typing import Any"
      ],
      "metadata": {
        "id": "-MQrky9Uaake"
      },
      "execution_count": null,
      "outputs": []
    },
    {
      "cell_type": "code",
      "source": [
        "students_data:Dict[str, list[Any]] = {\n",
        "    \"name\": [\"Hikmat Ullah\" , \"Qudrat Ullah\" , \"Hassnain\"],\n",
        "    \"Father Name\": [\"Sibghat Ullah\" , \"Sibghat Ullah\",\"Sibghat Ullah\"],\n",
        "    \"Reg No\": [\"20pwcse1919\" , \"20pwcse1919\" ,\"20pwcse1919\"]\n",
        "}\n",
        "dataframe: pd.DataFrame =pd.DataFrame(students_data)\n",
        "print(dataframe)"
      ],
      "metadata": {
        "colab": {
          "base_uri": "https://localhost:8080/"
        },
        "id": "Fu1CRHadjthE",
        "outputId": "e9ebf135-bf9d-46e9-f2d9-99b48494e8b0"
      },
      "execution_count": null,
      "outputs": [
        {
          "output_type": "stream",
          "name": "stdout",
          "text": [
            "           name    Father Name       Reg No\n",
            "0  Hikmat Ullah  Sibghat Ullah  20pwcse1919\n",
            "1  Qudrat Ullah  Sibghat Ullah  20pwcse1919\n",
            "2      Hassnain  Sibghat Ullah  20pwcse1919\n"
          ]
        }
      ]
    },
    {
      "cell_type": "code",
      "source": [],
      "metadata": {
        "id": "BT_kunisj7oA"
      },
      "execution_count": null,
      "outputs": []
    },
    {
      "cell_type": "markdown",
      "source": [
        "jsonify method converts the dictionary into json fromat"
      ],
      "metadata": {
        "id": "NVWDIReDlh5c"
      }
    },
    {
      "cell_type": "markdown",
      "source": [
        "**Class 09**"
      ],
      "metadata": {
        "id": "HMZipYp3l--E"
      }
    },
    {
      "cell_type": "markdown",
      "source": [
        "**Attretion** <br>\n",
        "\n",
        "Note: if we perform attretaion on dictionary so by default this gives us keys <br>\n",
        "we cant directly perform attretion on set"
      ],
      "metadata": {
        "id": "cnfmz5JBpUwr"
      }
    },
    {
      "cell_type": "markdown",
      "source": [
        "input from user <br>\n",
        "input function <br>\n",
        "\n",
        "*   default type = string\n",
        "<br>sys.argv(for console input in abc.py file) <br>\n",
        "default type object( means we will receive that what we will put in it)\n"
      ],
      "metadata": {
        "id": "SzUc3PKFmL5_"
      }
    },
    {
      "cell_type": "code",
      "source": [
        "input : str = input(\"enter your name\")"
      ],
      "metadata": {
        "id": "wlYVqVQXmB7Q"
      },
      "execution_count": null,
      "outputs": []
    },
    {
      "cell_type": "markdown",
      "source": [
        "console input ( argv)\n",
        "\n",
        "\n",
        "*   passed in console with file name\n",
        "*   to use ( import sys)\n",
        "\n"
      ],
      "metadata": {
        "id": "_sGEVG4bnrNz"
      }
    },
    {
      "cell_type": "code",
      "source": [
        "import sys\n",
        "print(\"line1\")\n",
        "print(sys.argv) # iterative data type , argv type is list\n"
      ],
      "metadata": {
        "id": "5uGfI1Enn3hn"
      },
      "execution_count": null,
      "outputs": []
    },
    {
      "cell_type": "markdown",
      "source": [
        "to check methods of any datatype <br>\n",
        "dir(datatype)"
      ],
      "metadata": {
        "id": "jzPLj4Wnp5LD"
      }
    },
    {
      "cell_type": "markdown",
      "source": [
        "**Controls:**\n",
        "\n",
        "\n",
        "1.   break\n",
        "2.   continue\n",
        "3.   pass ( eg if we write some code and want to write the rest of the code so our program will skip the error here instead giving error)\n",
        "\n"
      ],
      "metadata": {
        "id": "FXWsxGkKxTlk"
      }
    },
    {
      "cell_type": "markdown",
      "source": [
        "**Class 09**"
      ],
      "metadata": {
        "id": "8uAsMm6vxATy"
      }
    },
    {
      "cell_type": "markdown",
      "source": [
        "Functions\n",
        "\n",
        "\n",
        "1.   return\n",
        "2.   non-return\n",
        "\n"
      ],
      "metadata": {
        "id": "N7hX7-sTxDye"
      }
    },
    {
      "cell_type": "markdown",
      "source": [
        "Requaired parameters function"
      ],
      "metadata": {
        "id": "iBdDZILYyPl6"
      }
    },
    {
      "cell_type": "code",
      "source": [
        "def addnum(num1 : int , num2 : int) -> int: # function declearation with parameters\n",
        "  return(num1+num2)\n",
        "\n",
        "addnum(3,4) # function call with arguments"
      ],
      "metadata": {
        "colab": {
          "base_uri": "https://localhost:8080/"
        },
        "id": "cR8YGttZxQOc",
        "outputId": "a84ee8a4-2ad2-477b-88c8-a052a537527a"
      },
      "execution_count": null,
      "outputs": [
        {
          "output_type": "execute_result",
          "data": {
            "text/plain": [
              "7"
            ]
          },
          "metadata": {},
          "execution_count": 1
        }
      ]
    },
    {
      "cell_type": "markdown",
      "source": [
        "function with optional parameters"
      ],
      "metadata": {
        "id": "taxX814XyT5B"
      }
    },
    {
      "cell_type": "code",
      "source": [
        "def add_numbr(num1:int , num2:int = 0) -> int:\n",
        "  print(num1 , num2)\n",
        "  return num1 + num2\n",
        "\n",
        "add_numbr(1,5)\n",
        "add_numbr(1)"
      ],
      "metadata": {
        "colab": {
          "base_uri": "https://localhost:8080/"
        },
        "id": "oeGo8moGyZ3H",
        "outputId": "27c906aa-72f0-42c0-a611-788b1094f48b"
      },
      "execution_count": null,
      "outputs": [
        {
          "output_type": "stream",
          "name": "stdout",
          "text": [
            "1 5\n",
            "1 0\n"
          ]
        },
        {
          "output_type": "execute_result",
          "data": {
            "text/plain": [
              "1"
            ]
          },
          "metadata": {},
          "execution_count": 2
        }
      ]
    },
    {
      "cell_type": "markdown",
      "source": [
        "**Lambda function** <br>\n",
        "one line function <br>\n",
        "without name function <br>\n",
        "only use in this line <br>\n",
        "annonymus function\n",
        "<br>\n",
        "**Syntax** <br>\n",
        "lambda param1,param2:function_body <br>\n",
        "\n",
        "*NOTE*: we use lambda function for space efficiency <br>\n",
        "callabe"
      ],
      "metadata": {
        "id": "iCPEkYdpy8UP"
      }
    },
    {
      "cell_type": "code",
      "source": [
        "a = lambda num1,num2: num1+num2 #lambda function decleration\n",
        "\n",
        "a(7,8) # function call"
      ],
      "metadata": {
        "colab": {
          "base_uri": "https://localhost:8080/"
        },
        "id": "Ud847rBDxvQi",
        "outputId": "a2ca61be-fd0a-4834-be38-b94021fd85f2"
      },
      "execution_count": null,
      "outputs": [
        {
          "output_type": "execute_result",
          "data": {
            "text/plain": [
              "15"
            ]
          },
          "metadata": {},
          "execution_count": 3
        }
      ]
    },
    {
      "cell_type": "code",
      "source": [
        "data: list[int] = [1,2,3,4,5,6,7,8]\n",
        "\n",
        "data = list(map(lambda x:x**2 , data)) # we apply attretion (list) because its generator function\n",
        "data"
      ],
      "metadata": {
        "colab": {
          "base_uri": "https://localhost:8080/"
        },
        "id": "WHSnNbw10DQL",
        "outputId": "0cc3150c-3118-49cc-ff01-17af1a9523e5"
      },
      "execution_count": null,
      "outputs": [
        {
          "output_type": "execute_result",
          "data": {
            "text/plain": [
              "[1, 4, 9, 16, 25, 36, 49, 64]"
            ]
          },
          "metadata": {},
          "execution_count": 5
        }
      ]
    },
    {
      "cell_type": "code",
      "source": [
        "data: list[int] = [1,2,3,4,5,6,7,8]\n",
        "\n",
        "data = list(filter(lambda x:x%2 == 0 , data)) # we apply attretion (list) because its generator function\n",
        "data"
      ],
      "metadata": {
        "colab": {
          "base_uri": "https://localhost:8080/"
        },
        "id": "6xyXi_2O0v3F",
        "outputId": "e2cbc0d7-af19-4ab7-9448-031dfb3a6cce"
      },
      "execution_count": null,
      "outputs": [
        {
          "output_type": "execute_result",
          "data": {
            "text/plain": [
              "[2, 4, 6, 8]"
            ]
          },
          "metadata": {},
          "execution_count": 6
        }
      ]
    },
    {
      "cell_type": "markdown",
      "source": [
        "**Generator function** <br>\n",
        "*iterate one by one\n",
        "<br> *stop after each iteration <br>\n",
        "*remember old (last) iteration value <br>\n",
        "*next iterate go forward from that last one"
      ],
      "metadata": {
        "id": "Uf4t_oH73cd_"
      }
    },
    {
      "cell_type": "code",
      "source": [
        "def my_range(start:int , end:int , step:int):\n",
        "  for i in range(start , end+1 , step):\n",
        "    yield i #generator function\n",
        "\n",
        "a = list(my_range(1,10 , 1))\n",
        "a\n"
      ],
      "metadata": {
        "colab": {
          "base_uri": "https://localhost:8080/"
        },
        "id": "diYgcLD71BWx",
        "outputId": "82c65060-9b00-4544-85c4-1e02ccb7dfb3"
      },
      "execution_count": null,
      "outputs": [
        {
          "output_type": "execute_result",
          "data": {
            "text/plain": [
              "[1, 2, 3, 4, 5, 6, 7, 8, 9, 10]"
            ]
          },
          "metadata": {},
          "execution_count": 10
        }
      ]
    },
    {
      "cell_type": "code",
      "source": [
        "from collections.abc import Iterator\n",
        "\n",
        "def my_range(start:int , end:int , step:int = 1)->Iterator[int]:\n",
        "  for i in range(start , end+1 , step):\n",
        "    yield i #generator function\n",
        "\n",
        "a :Iterator[int]= my_range(1,10 , 1)\n",
        "print(next(a))\n",
        "print(next(a))\n",
        "\n",
        "print(type(a))\n",
        "\n",
        "for i in a:\n",
        "  print(i)\n"
      ],
      "metadata": {
        "colab": {
          "base_uri": "https://localhost:8080/"
        },
        "id": "EHYb5fbK5CQL",
        "outputId": "27ffd7c0-0696-4145-ced3-b8b4da9c7d96"
      },
      "execution_count": null,
      "outputs": [
        {
          "output_type": "stream",
          "name": "stdout",
          "text": [
            "1\n",
            "2\n",
            "<class 'generator'>\n",
            "3\n",
            "4\n",
            "5\n",
            "6\n",
            "7\n",
            "8\n",
            "9\n",
            "10\n"
          ]
        }
      ]
    },
    {
      "cell_type": "markdown",
      "source": [
        "passing Unlimited arguments\n",
        "\n",
        "\n",
        "1.   *args\n",
        "2.   **keyargs\n",
        "\n"
      ],
      "metadata": {
        "id": "6X4MK0GP-LXG"
      }
    },
    {
      "cell_type": "code",
      "source": [
        "from typing import Tuple, Dict\n",
        "def gret(*names: Tuple[str , ...])->None:\n",
        "  print(f\"hello{names}\")"
      ],
      "metadata": {
        "id": "_Z-EmlNl6LpN"
      },
      "execution_count": null,
      "outputs": []
    },
    {
      "cell_type": "markdown",
      "source": [
        "**Numpy**"
      ],
      "metadata": {
        "id": "SLyDuOxMwJLL"
      }
    },
    {
      "cell_type": "code",
      "source": [
        "!pip install nptyping beartype"
      ],
      "metadata": {
        "colab": {
          "base_uri": "https://localhost:8080/"
        },
        "id": "R8rkAQP6wMMs",
        "outputId": "00d5cacb-314e-452d-92be-254846088d94"
      },
      "execution_count": 1,
      "outputs": [
        {
          "output_type": "stream",
          "name": "stdout",
          "text": [
            "Collecting nptyping\n",
            "  Downloading nptyping-2.5.0-py3-none-any.whl (37 kB)\n",
            "Collecting beartype\n",
            "  Downloading beartype-0.16.4-py3-none-any.whl (819 kB)\n",
            "\u001b[?25l     \u001b[90m━━━━━━━━━━━━━━━━━━━━━━━━━━━━━━━━━━━━━━━━\u001b[0m \u001b[32m0.0/819.1 kB\u001b[0m \u001b[31m?\u001b[0m eta \u001b[36m-:--:--\u001b[0m\r\u001b[2K     \u001b[90m━━━━━━━━━━━━━━━━━━━━━━━━━━━━━━━━━━━━━━━━\u001b[0m \u001b[32m819.1/819.1 kB\u001b[0m \u001b[31m25.9 MB/s\u001b[0m eta \u001b[36m0:00:00\u001b[0m\n",
            "\u001b[?25hRequirement already satisfied: numpy<2.0.0,>=1.20.0 in /usr/local/lib/python3.10/dist-packages (from nptyping) (1.23.5)\n",
            "Installing collected packages: nptyping, beartype\n",
            "Successfully installed beartype-0.16.4 nptyping-2.5.0\n"
          ]
        }
      ]
    },
    {
      "cell_type": "markdown",
      "source": [
        "#Scalar type <br>\n",
        "* NOTE: Scalar has no any dimensions ( zero dimention)"
      ],
      "metadata": {
        "id": "OzSTBs-sx8Kt"
      }
    },
    {
      "cell_type": "code",
      "source": [
        "import numpy as np\n",
        "\n",
        "a: np.ndarray = np.array(1000)\n",
        "display(a)\n",
        "display(a.shape)\n",
        "display(type(a))\n",
        "display(a.dtype)\n",
        "display(a.ndim)\n",
        "display(a.size) # how many bits it consists\n",
        "display(a.itemsize)"
      ],
      "metadata": {
        "id": "-jP9T7_gAaNj",
        "colab": {
          "base_uri": "https://localhost:8080/",
          "height": 139
        },
        "outputId": "39b4d3c8-e445-47c0-cc88-37232034a1db"
      },
      "execution_count": 3,
      "outputs": [
        {
          "output_type": "display_data",
          "data": {
            "text/plain": [
              "array(1000)"
            ]
          },
          "metadata": {}
        },
        {
          "output_type": "display_data",
          "data": {
            "text/plain": [
              "()"
            ]
          },
          "metadata": {}
        },
        {
          "output_type": "display_data",
          "data": {
            "text/plain": [
              "numpy.ndarray"
            ]
          },
          "metadata": {}
        },
        {
          "output_type": "display_data",
          "data": {
            "text/plain": [
              "dtype('int64')"
            ]
          },
          "metadata": {}
        },
        {
          "output_type": "display_data",
          "data": {
            "text/plain": [
              "0"
            ]
          },
          "metadata": {}
        },
        {
          "output_type": "display_data",
          "data": {
            "text/plain": [
              "1"
            ]
          },
          "metadata": {}
        },
        {
          "output_type": "display_data",
          "data": {
            "text/plain": [
              "8"
            ]
          },
          "metadata": {}
        }
      ]
    },
    {
      "cell_type": "markdown",
      "source": [
        "#Vector type"
      ],
      "metadata": {
        "id": "y-0H54gQy0FQ"
      }
    },
    {
      "cell_type": "code",
      "source": [
        "import numpy as np\n",
        "\n",
        "a: np.ndarray = np.array([1,2,3,4,5,6,7])\n",
        "display(a)\n",
        "display(a.shape)\n",
        "display(type(a))\n",
        "display(a.dtype)\n",
        "display(a.ndim)\n",
        "display(a.size) # number of elemnts\n",
        "display(a.itemsize) # how many bits it consists"
      ],
      "metadata": {
        "colab": {
          "base_uri": "https://localhost:8080/",
          "height": 139
        },
        "id": "OMlO7nkWxy3O",
        "outputId": "12382871-3ce9-4b79-89ed-c5c694751f7b"
      },
      "execution_count": 5,
      "outputs": [
        {
          "output_type": "display_data",
          "data": {
            "text/plain": [
              "array([1, 2, 3, 4, 5, 6, 7])"
            ]
          },
          "metadata": {}
        },
        {
          "output_type": "display_data",
          "data": {
            "text/plain": [
              "(7,)"
            ]
          },
          "metadata": {}
        },
        {
          "output_type": "display_data",
          "data": {
            "text/plain": [
              "numpy.ndarray"
            ]
          },
          "metadata": {}
        },
        {
          "output_type": "display_data",
          "data": {
            "text/plain": [
              "dtype('int64')"
            ]
          },
          "metadata": {}
        },
        {
          "output_type": "display_data",
          "data": {
            "text/plain": [
              "1"
            ]
          },
          "metadata": {}
        },
        {
          "output_type": "display_data",
          "data": {
            "text/plain": [
              "7"
            ]
          },
          "metadata": {}
        },
        {
          "output_type": "display_data",
          "data": {
            "text/plain": [
              "8"
            ]
          },
          "metadata": {}
        }
      ]
    },
    {
      "cell_type": "code",
      "source": [
        "a.size ?\n",
        "help(a.itemsize)"
      ],
      "metadata": {
        "colab": {
          "base_uri": "https://localhost:8080/",
          "height": 140
        },
        "id": "_N2fKXf2zFky",
        "outputId": "7560ba2e-017f-40a1-f194-88d5f7189a48"
      },
      "execution_count": 9,
      "outputs": [
        {
          "output_type": "error",
          "ename": "SyntaxError",
          "evalue": "ignored",
          "traceback": [
            "\u001b[0;36m  File \u001b[0;32m\"<ipython-input-9-be16cf908481>\"\u001b[0;36m, line \u001b[0;32m1\u001b[0m\n\u001b[0;31m    a.size ?\u001b[0m\n\u001b[0m           ^\u001b[0m\n\u001b[0;31mSyntaxError\u001b[0m\u001b[0;31m:\u001b[0m invalid syntax\n"
          ]
        }
      ]
    },
    {
      "cell_type": "code",
      "source": [
        "import numpy as np\n",
        "data = [[1,2,3],\n",
        "        [4,5,6],\n",
        "        [7,8,9]]\n",
        "\n",
        "a: np.ndarray = np.array(data)\n",
        "display(a)\n",
        "display(a.shape)\n",
        "display(type(a))\n",
        "display(a.dtype)\n",
        "display(a.ndim)\n",
        "display(a.size) # number of elemnts\n",
        "display(a.itemsize) # how many bits it consists"
      ],
      "metadata": {
        "colab": {
          "base_uri": "https://localhost:8080/",
          "height": 173
        },
        "id": "SucBkdhtzyHR",
        "outputId": "79bb69df-c8dd-4194-b4f4-a8128387c9f0"
      },
      "execution_count": 10,
      "outputs": [
        {
          "output_type": "display_data",
          "data": {
            "text/plain": [
              "array([[1, 2, 3],\n",
              "       [4, 5, 6],\n",
              "       [7, 8, 9]])"
            ]
          },
          "metadata": {}
        },
        {
          "output_type": "display_data",
          "data": {
            "text/plain": [
              "(3, 3)"
            ]
          },
          "metadata": {}
        },
        {
          "output_type": "display_data",
          "data": {
            "text/plain": [
              "numpy.ndarray"
            ]
          },
          "metadata": {}
        },
        {
          "output_type": "display_data",
          "data": {
            "text/plain": [
              "dtype('int64')"
            ]
          },
          "metadata": {}
        },
        {
          "output_type": "display_data",
          "data": {
            "text/plain": [
              "2"
            ]
          },
          "metadata": {}
        },
        {
          "output_type": "display_data",
          "data": {
            "text/plain": [
              "9"
            ]
          },
          "metadata": {}
        },
        {
          "output_type": "display_data",
          "data": {
            "text/plain": [
              "8"
            ]
          },
          "metadata": {}
        }
      ]
    },
    {
      "cell_type": "markdown",
      "source": [
        "#Numpy with NDArray typing support\n"
      ],
      "metadata": {
        "id": "SwnfnknF1GA7"
      }
    },
    {
      "cell_type": "code",
      "source": [
        "from nptyping import NDArray , Shape ,  UInt64\n",
        "from typing import Any\n",
        "\n",
        "data : NDArray[Shape[\"10\"] , Any] = np.arange(1,11)\n",
        "print(data)\n",
        "print(data+5) # tis operation can't b edone without numpy"
      ],
      "metadata": {
        "colab": {
          "base_uri": "https://localhost:8080/"
        },
        "id": "YXsdex0L1Rne",
        "outputId": "ff882607-5251-4faa-e691-2977acb12e50"
      },
      "execution_count": 17,
      "outputs": [
        {
          "output_type": "stream",
          "name": "stdout",
          "text": [
            "[ 1  2  3  4  5  6  7  8  9 10]\n",
            "[ 6  7  8  9 10 11 12 13 14 15]\n"
          ]
        }
      ]
    },
    {
      "cell_type": "code",
      "source": [
        "%%time\n",
        "\n",
        "data : NDArray[Shape[\"10\"] , Any] = np.arange(1,10000000)\n",
        "data + 5"
      ],
      "metadata": {
        "colab": {
          "base_uri": "https://localhost:8080/"
        },
        "id": "bmGegS9D06MN",
        "outputId": "6157e782-c9b6-466f-ec47-7984fffe55ec"
      },
      "execution_count": 19,
      "outputs": [
        {
          "output_type": "stream",
          "name": "stdout",
          "text": [
            "CPU times: user 23.5 ms, sys: 43.7 ms, total: 67.2 ms\n",
            "Wall time: 68.2 ms\n"
          ]
        },
        {
          "output_type": "execute_result",
          "data": {
            "text/plain": [
              "array([       6,        7,        8, ..., 10000002, 10000003, 10000004])"
            ]
          },
          "metadata": {},
          "execution_count": 19
        }
      ]
    },
    {
      "cell_type": "code",
      "source": [
        "%%time\n",
        "data: list[int] = list(range(1,1000000))\n",
        "\n",
        "[i + 5 for i in data]"
      ],
      "metadata": {
        "colab": {
          "base_uri": "https://localhost:8080/"
        },
        "id": "dqHAosS33Iq5",
        "outputId": "51ba2067-f458-4dfc-ea26-36a468564a79"
      },
      "execution_count": 20,
      "outputs": [
        {
          "output_type": "stream",
          "name": "stdout",
          "text": [
            "CPU times: user 124 ms, sys: 44.5 ms, total: 168 ms\n",
            "Wall time: 415 ms\n"
          ]
        },
        {
          "output_type": "execute_result",
          "data": {
            "text/plain": [
              "[6,\n",
              " 7,\n",
              " 8,\n",
              " 9,\n",
              " 10,\n",
              " 11,\n",
              " 12,\n",
              " 13,\n",
              " 14,\n",
              " 15,\n",
              " 16,\n",
              " 17,\n",
              " 18,\n",
              " 19,\n",
              " 20,\n",
              " 21,\n",
              " 22,\n",
              " 23,\n",
              " 24,\n",
              " 25,\n",
              " 26,\n",
              " 27,\n",
              " 28,\n",
              " 29,\n",
              " 30,\n",
              " 31,\n",
              " 32,\n",
              " 33,\n",
              " 34,\n",
              " 35,\n",
              " 36,\n",
              " 37,\n",
              " 38,\n",
              " 39,\n",
              " 40,\n",
              " 41,\n",
              " 42,\n",
              " 43,\n",
              " 44,\n",
              " 45,\n",
              " 46,\n",
              " 47,\n",
              " 48,\n",
              " 49,\n",
              " 50,\n",
              " 51,\n",
              " 52,\n",
              " 53,\n",
              " 54,\n",
              " 55,\n",
              " 56,\n",
              " 57,\n",
              " 58,\n",
              " 59,\n",
              " 60,\n",
              " 61,\n",
              " 62,\n",
              " 63,\n",
              " 64,\n",
              " 65,\n",
              " 66,\n",
              " 67,\n",
              " 68,\n",
              " 69,\n",
              " 70,\n",
              " 71,\n",
              " 72,\n",
              " 73,\n",
              " 74,\n",
              " 75,\n",
              " 76,\n",
              " 77,\n",
              " 78,\n",
              " 79,\n",
              " 80,\n",
              " 81,\n",
              " 82,\n",
              " 83,\n",
              " 84,\n",
              " 85,\n",
              " 86,\n",
              " 87,\n",
              " 88,\n",
              " 89,\n",
              " 90,\n",
              " 91,\n",
              " 92,\n",
              " 93,\n",
              " 94,\n",
              " 95,\n",
              " 96,\n",
              " 97,\n",
              " 98,\n",
              " 99,\n",
              " 100,\n",
              " 101,\n",
              " 102,\n",
              " 103,\n",
              " 104,\n",
              " 105,\n",
              " 106,\n",
              " 107,\n",
              " 108,\n",
              " 109,\n",
              " 110,\n",
              " 111,\n",
              " 112,\n",
              " 113,\n",
              " 114,\n",
              " 115,\n",
              " 116,\n",
              " 117,\n",
              " 118,\n",
              " 119,\n",
              " 120,\n",
              " 121,\n",
              " 122,\n",
              " 123,\n",
              " 124,\n",
              " 125,\n",
              " 126,\n",
              " 127,\n",
              " 128,\n",
              " 129,\n",
              " 130,\n",
              " 131,\n",
              " 132,\n",
              " 133,\n",
              " 134,\n",
              " 135,\n",
              " 136,\n",
              " 137,\n",
              " 138,\n",
              " 139,\n",
              " 140,\n",
              " 141,\n",
              " 142,\n",
              " 143,\n",
              " 144,\n",
              " 145,\n",
              " 146,\n",
              " 147,\n",
              " 148,\n",
              " 149,\n",
              " 150,\n",
              " 151,\n",
              " 152,\n",
              " 153,\n",
              " 154,\n",
              " 155,\n",
              " 156,\n",
              " 157,\n",
              " 158,\n",
              " 159,\n",
              " 160,\n",
              " 161,\n",
              " 162,\n",
              " 163,\n",
              " 164,\n",
              " 165,\n",
              " 166,\n",
              " 167,\n",
              " 168,\n",
              " 169,\n",
              " 170,\n",
              " 171,\n",
              " 172,\n",
              " 173,\n",
              " 174,\n",
              " 175,\n",
              " 176,\n",
              " 177,\n",
              " 178,\n",
              " 179,\n",
              " 180,\n",
              " 181,\n",
              " 182,\n",
              " 183,\n",
              " 184,\n",
              " 185,\n",
              " 186,\n",
              " 187,\n",
              " 188,\n",
              " 189,\n",
              " 190,\n",
              " 191,\n",
              " 192,\n",
              " 193,\n",
              " 194,\n",
              " 195,\n",
              " 196,\n",
              " 197,\n",
              " 198,\n",
              " 199,\n",
              " 200,\n",
              " 201,\n",
              " 202,\n",
              " 203,\n",
              " 204,\n",
              " 205,\n",
              " 206,\n",
              " 207,\n",
              " 208,\n",
              " 209,\n",
              " 210,\n",
              " 211,\n",
              " 212,\n",
              " 213,\n",
              " 214,\n",
              " 215,\n",
              " 216,\n",
              " 217,\n",
              " 218,\n",
              " 219,\n",
              " 220,\n",
              " 221,\n",
              " 222,\n",
              " 223,\n",
              " 224,\n",
              " 225,\n",
              " 226,\n",
              " 227,\n",
              " 228,\n",
              " 229,\n",
              " 230,\n",
              " 231,\n",
              " 232,\n",
              " 233,\n",
              " 234,\n",
              " 235,\n",
              " 236,\n",
              " 237,\n",
              " 238,\n",
              " 239,\n",
              " 240,\n",
              " 241,\n",
              " 242,\n",
              " 243,\n",
              " 244,\n",
              " 245,\n",
              " 246,\n",
              " 247,\n",
              " 248,\n",
              " 249,\n",
              " 250,\n",
              " 251,\n",
              " 252,\n",
              " 253,\n",
              " 254,\n",
              " 255,\n",
              " 256,\n",
              " 257,\n",
              " 258,\n",
              " 259,\n",
              " 260,\n",
              " 261,\n",
              " 262,\n",
              " 263,\n",
              " 264,\n",
              " 265,\n",
              " 266,\n",
              " 267,\n",
              " 268,\n",
              " 269,\n",
              " 270,\n",
              " 271,\n",
              " 272,\n",
              " 273,\n",
              " 274,\n",
              " 275,\n",
              " 276,\n",
              " 277,\n",
              " 278,\n",
              " 279,\n",
              " 280,\n",
              " 281,\n",
              " 282,\n",
              " 283,\n",
              " 284,\n",
              " 285,\n",
              " 286,\n",
              " 287,\n",
              " 288,\n",
              " 289,\n",
              " 290,\n",
              " 291,\n",
              " 292,\n",
              " 293,\n",
              " 294,\n",
              " 295,\n",
              " 296,\n",
              " 297,\n",
              " 298,\n",
              " 299,\n",
              " 300,\n",
              " 301,\n",
              " 302,\n",
              " 303,\n",
              " 304,\n",
              " 305,\n",
              " 306,\n",
              " 307,\n",
              " 308,\n",
              " 309,\n",
              " 310,\n",
              " 311,\n",
              " 312,\n",
              " 313,\n",
              " 314,\n",
              " 315,\n",
              " 316,\n",
              " 317,\n",
              " 318,\n",
              " 319,\n",
              " 320,\n",
              " 321,\n",
              " 322,\n",
              " 323,\n",
              " 324,\n",
              " 325,\n",
              " 326,\n",
              " 327,\n",
              " 328,\n",
              " 329,\n",
              " 330,\n",
              " 331,\n",
              " 332,\n",
              " 333,\n",
              " 334,\n",
              " 335,\n",
              " 336,\n",
              " 337,\n",
              " 338,\n",
              " 339,\n",
              " 340,\n",
              " 341,\n",
              " 342,\n",
              " 343,\n",
              " 344,\n",
              " 345,\n",
              " 346,\n",
              " 347,\n",
              " 348,\n",
              " 349,\n",
              " 350,\n",
              " 351,\n",
              " 352,\n",
              " 353,\n",
              " 354,\n",
              " 355,\n",
              " 356,\n",
              " 357,\n",
              " 358,\n",
              " 359,\n",
              " 360,\n",
              " 361,\n",
              " 362,\n",
              " 363,\n",
              " 364,\n",
              " 365,\n",
              " 366,\n",
              " 367,\n",
              " 368,\n",
              " 369,\n",
              " 370,\n",
              " 371,\n",
              " 372,\n",
              " 373,\n",
              " 374,\n",
              " 375,\n",
              " 376,\n",
              " 377,\n",
              " 378,\n",
              " 379,\n",
              " 380,\n",
              " 381,\n",
              " 382,\n",
              " 383,\n",
              " 384,\n",
              " 385,\n",
              " 386,\n",
              " 387,\n",
              " 388,\n",
              " 389,\n",
              " 390,\n",
              " 391,\n",
              " 392,\n",
              " 393,\n",
              " 394,\n",
              " 395,\n",
              " 396,\n",
              " 397,\n",
              " 398,\n",
              " 399,\n",
              " 400,\n",
              " 401,\n",
              " 402,\n",
              " 403,\n",
              " 404,\n",
              " 405,\n",
              " 406,\n",
              " 407,\n",
              " 408,\n",
              " 409,\n",
              " 410,\n",
              " 411,\n",
              " 412,\n",
              " 413,\n",
              " 414,\n",
              " 415,\n",
              " 416,\n",
              " 417,\n",
              " 418,\n",
              " 419,\n",
              " 420,\n",
              " 421,\n",
              " 422,\n",
              " 423,\n",
              " 424,\n",
              " 425,\n",
              " 426,\n",
              " 427,\n",
              " 428,\n",
              " 429,\n",
              " 430,\n",
              " 431,\n",
              " 432,\n",
              " 433,\n",
              " 434,\n",
              " 435,\n",
              " 436,\n",
              " 437,\n",
              " 438,\n",
              " 439,\n",
              " 440,\n",
              " 441,\n",
              " 442,\n",
              " 443,\n",
              " 444,\n",
              " 445,\n",
              " 446,\n",
              " 447,\n",
              " 448,\n",
              " 449,\n",
              " 450,\n",
              " 451,\n",
              " 452,\n",
              " 453,\n",
              " 454,\n",
              " 455,\n",
              " 456,\n",
              " 457,\n",
              " 458,\n",
              " 459,\n",
              " 460,\n",
              " 461,\n",
              " 462,\n",
              " 463,\n",
              " 464,\n",
              " 465,\n",
              " 466,\n",
              " 467,\n",
              " 468,\n",
              " 469,\n",
              " 470,\n",
              " 471,\n",
              " 472,\n",
              " 473,\n",
              " 474,\n",
              " 475,\n",
              " 476,\n",
              " 477,\n",
              " 478,\n",
              " 479,\n",
              " 480,\n",
              " 481,\n",
              " 482,\n",
              " 483,\n",
              " 484,\n",
              " 485,\n",
              " 486,\n",
              " 487,\n",
              " 488,\n",
              " 489,\n",
              " 490,\n",
              " 491,\n",
              " 492,\n",
              " 493,\n",
              " 494,\n",
              " 495,\n",
              " 496,\n",
              " 497,\n",
              " 498,\n",
              " 499,\n",
              " 500,\n",
              " 501,\n",
              " 502,\n",
              " 503,\n",
              " 504,\n",
              " 505,\n",
              " 506,\n",
              " 507,\n",
              " 508,\n",
              " 509,\n",
              " 510,\n",
              " 511,\n",
              " 512,\n",
              " 513,\n",
              " 514,\n",
              " 515,\n",
              " 516,\n",
              " 517,\n",
              " 518,\n",
              " 519,\n",
              " 520,\n",
              " 521,\n",
              " 522,\n",
              " 523,\n",
              " 524,\n",
              " 525,\n",
              " 526,\n",
              " 527,\n",
              " 528,\n",
              " 529,\n",
              " 530,\n",
              " 531,\n",
              " 532,\n",
              " 533,\n",
              " 534,\n",
              " 535,\n",
              " 536,\n",
              " 537,\n",
              " 538,\n",
              " 539,\n",
              " 540,\n",
              " 541,\n",
              " 542,\n",
              " 543,\n",
              " 544,\n",
              " 545,\n",
              " 546,\n",
              " 547,\n",
              " 548,\n",
              " 549,\n",
              " 550,\n",
              " 551,\n",
              " 552,\n",
              " 553,\n",
              " 554,\n",
              " 555,\n",
              " 556,\n",
              " 557,\n",
              " 558,\n",
              " 559,\n",
              " 560,\n",
              " 561,\n",
              " 562,\n",
              " 563,\n",
              " 564,\n",
              " 565,\n",
              " 566,\n",
              " 567,\n",
              " 568,\n",
              " 569,\n",
              " 570,\n",
              " 571,\n",
              " 572,\n",
              " 573,\n",
              " 574,\n",
              " 575,\n",
              " 576,\n",
              " 577,\n",
              " 578,\n",
              " 579,\n",
              " 580,\n",
              " 581,\n",
              " 582,\n",
              " 583,\n",
              " 584,\n",
              " 585,\n",
              " 586,\n",
              " 587,\n",
              " 588,\n",
              " 589,\n",
              " 590,\n",
              " 591,\n",
              " 592,\n",
              " 593,\n",
              " 594,\n",
              " 595,\n",
              " 596,\n",
              " 597,\n",
              " 598,\n",
              " 599,\n",
              " 600,\n",
              " 601,\n",
              " 602,\n",
              " 603,\n",
              " 604,\n",
              " 605,\n",
              " 606,\n",
              " 607,\n",
              " 608,\n",
              " 609,\n",
              " 610,\n",
              " 611,\n",
              " 612,\n",
              " 613,\n",
              " 614,\n",
              " 615,\n",
              " 616,\n",
              " 617,\n",
              " 618,\n",
              " 619,\n",
              " 620,\n",
              " 621,\n",
              " 622,\n",
              " 623,\n",
              " 624,\n",
              " 625,\n",
              " 626,\n",
              " 627,\n",
              " 628,\n",
              " 629,\n",
              " 630,\n",
              " 631,\n",
              " 632,\n",
              " 633,\n",
              " 634,\n",
              " 635,\n",
              " 636,\n",
              " 637,\n",
              " 638,\n",
              " 639,\n",
              " 640,\n",
              " 641,\n",
              " 642,\n",
              " 643,\n",
              " 644,\n",
              " 645,\n",
              " 646,\n",
              " 647,\n",
              " 648,\n",
              " 649,\n",
              " 650,\n",
              " 651,\n",
              " 652,\n",
              " 653,\n",
              " 654,\n",
              " 655,\n",
              " 656,\n",
              " 657,\n",
              " 658,\n",
              " 659,\n",
              " 660,\n",
              " 661,\n",
              " 662,\n",
              " 663,\n",
              " 664,\n",
              " 665,\n",
              " 666,\n",
              " 667,\n",
              " 668,\n",
              " 669,\n",
              " 670,\n",
              " 671,\n",
              " 672,\n",
              " 673,\n",
              " 674,\n",
              " 675,\n",
              " 676,\n",
              " 677,\n",
              " 678,\n",
              " 679,\n",
              " 680,\n",
              " 681,\n",
              " 682,\n",
              " 683,\n",
              " 684,\n",
              " 685,\n",
              " 686,\n",
              " 687,\n",
              " 688,\n",
              " 689,\n",
              " 690,\n",
              " 691,\n",
              " 692,\n",
              " 693,\n",
              " 694,\n",
              " 695,\n",
              " 696,\n",
              " 697,\n",
              " 698,\n",
              " 699,\n",
              " 700,\n",
              " 701,\n",
              " 702,\n",
              " 703,\n",
              " 704,\n",
              " 705,\n",
              " 706,\n",
              " 707,\n",
              " 708,\n",
              " 709,\n",
              " 710,\n",
              " 711,\n",
              " 712,\n",
              " 713,\n",
              " 714,\n",
              " 715,\n",
              " 716,\n",
              " 717,\n",
              " 718,\n",
              " 719,\n",
              " 720,\n",
              " 721,\n",
              " 722,\n",
              " 723,\n",
              " 724,\n",
              " 725,\n",
              " 726,\n",
              " 727,\n",
              " 728,\n",
              " 729,\n",
              " 730,\n",
              " 731,\n",
              " 732,\n",
              " 733,\n",
              " 734,\n",
              " 735,\n",
              " 736,\n",
              " 737,\n",
              " 738,\n",
              " 739,\n",
              " 740,\n",
              " 741,\n",
              " 742,\n",
              " 743,\n",
              " 744,\n",
              " 745,\n",
              " 746,\n",
              " 747,\n",
              " 748,\n",
              " 749,\n",
              " 750,\n",
              " 751,\n",
              " 752,\n",
              " 753,\n",
              " 754,\n",
              " 755,\n",
              " 756,\n",
              " 757,\n",
              " 758,\n",
              " 759,\n",
              " 760,\n",
              " 761,\n",
              " 762,\n",
              " 763,\n",
              " 764,\n",
              " 765,\n",
              " 766,\n",
              " 767,\n",
              " 768,\n",
              " 769,\n",
              " 770,\n",
              " 771,\n",
              " 772,\n",
              " 773,\n",
              " 774,\n",
              " 775,\n",
              " 776,\n",
              " 777,\n",
              " 778,\n",
              " 779,\n",
              " 780,\n",
              " 781,\n",
              " 782,\n",
              " 783,\n",
              " 784,\n",
              " 785,\n",
              " 786,\n",
              " 787,\n",
              " 788,\n",
              " 789,\n",
              " 790,\n",
              " 791,\n",
              " 792,\n",
              " 793,\n",
              " 794,\n",
              " 795,\n",
              " 796,\n",
              " 797,\n",
              " 798,\n",
              " 799,\n",
              " 800,\n",
              " 801,\n",
              " 802,\n",
              " 803,\n",
              " 804,\n",
              " 805,\n",
              " 806,\n",
              " 807,\n",
              " 808,\n",
              " 809,\n",
              " 810,\n",
              " 811,\n",
              " 812,\n",
              " 813,\n",
              " 814,\n",
              " 815,\n",
              " 816,\n",
              " 817,\n",
              " 818,\n",
              " 819,\n",
              " 820,\n",
              " 821,\n",
              " 822,\n",
              " 823,\n",
              " 824,\n",
              " 825,\n",
              " 826,\n",
              " 827,\n",
              " 828,\n",
              " 829,\n",
              " 830,\n",
              " 831,\n",
              " 832,\n",
              " 833,\n",
              " 834,\n",
              " 835,\n",
              " 836,\n",
              " 837,\n",
              " 838,\n",
              " 839,\n",
              " 840,\n",
              " 841,\n",
              " 842,\n",
              " 843,\n",
              " 844,\n",
              " 845,\n",
              " 846,\n",
              " 847,\n",
              " 848,\n",
              " 849,\n",
              " 850,\n",
              " 851,\n",
              " 852,\n",
              " 853,\n",
              " 854,\n",
              " 855,\n",
              " 856,\n",
              " 857,\n",
              " 858,\n",
              " 859,\n",
              " 860,\n",
              " 861,\n",
              " 862,\n",
              " 863,\n",
              " 864,\n",
              " 865,\n",
              " 866,\n",
              " 867,\n",
              " 868,\n",
              " 869,\n",
              " 870,\n",
              " 871,\n",
              " 872,\n",
              " 873,\n",
              " 874,\n",
              " 875,\n",
              " 876,\n",
              " 877,\n",
              " 878,\n",
              " 879,\n",
              " 880,\n",
              " 881,\n",
              " 882,\n",
              " 883,\n",
              " 884,\n",
              " 885,\n",
              " 886,\n",
              " 887,\n",
              " 888,\n",
              " 889,\n",
              " 890,\n",
              " 891,\n",
              " 892,\n",
              " 893,\n",
              " 894,\n",
              " 895,\n",
              " 896,\n",
              " 897,\n",
              " 898,\n",
              " 899,\n",
              " 900,\n",
              " 901,\n",
              " 902,\n",
              " 903,\n",
              " 904,\n",
              " 905,\n",
              " 906,\n",
              " 907,\n",
              " 908,\n",
              " 909,\n",
              " 910,\n",
              " 911,\n",
              " 912,\n",
              " 913,\n",
              " 914,\n",
              " 915,\n",
              " 916,\n",
              " 917,\n",
              " 918,\n",
              " 919,\n",
              " 920,\n",
              " 921,\n",
              " 922,\n",
              " 923,\n",
              " 924,\n",
              " 925,\n",
              " 926,\n",
              " 927,\n",
              " 928,\n",
              " 929,\n",
              " 930,\n",
              " 931,\n",
              " 932,\n",
              " 933,\n",
              " 934,\n",
              " 935,\n",
              " 936,\n",
              " 937,\n",
              " 938,\n",
              " 939,\n",
              " 940,\n",
              " 941,\n",
              " 942,\n",
              " 943,\n",
              " 944,\n",
              " 945,\n",
              " 946,\n",
              " 947,\n",
              " 948,\n",
              " 949,\n",
              " 950,\n",
              " 951,\n",
              " 952,\n",
              " 953,\n",
              " 954,\n",
              " 955,\n",
              " 956,\n",
              " 957,\n",
              " 958,\n",
              " 959,\n",
              " 960,\n",
              " 961,\n",
              " 962,\n",
              " 963,\n",
              " 964,\n",
              " 965,\n",
              " 966,\n",
              " 967,\n",
              " 968,\n",
              " 969,\n",
              " 970,\n",
              " 971,\n",
              " 972,\n",
              " 973,\n",
              " 974,\n",
              " 975,\n",
              " 976,\n",
              " 977,\n",
              " 978,\n",
              " 979,\n",
              " 980,\n",
              " 981,\n",
              " 982,\n",
              " 983,\n",
              " 984,\n",
              " 985,\n",
              " 986,\n",
              " 987,\n",
              " 988,\n",
              " 989,\n",
              " 990,\n",
              " 991,\n",
              " 992,\n",
              " 993,\n",
              " 994,\n",
              " 995,\n",
              " 996,\n",
              " 997,\n",
              " 998,\n",
              " 999,\n",
              " 1000,\n",
              " 1001,\n",
              " 1002,\n",
              " 1003,\n",
              " 1004,\n",
              " 1005,\n",
              " ...]"
            ]
          },
          "metadata": {},
          "execution_count": 20
        }
      ]
    },
    {
      "cell_type": "markdown",
      "source": [
        "#numpy advanced operations vs list operations"
      ],
      "metadata": {
        "id": "PRTwOtZQ3rjP"
      }
    },
    {
      "cell_type": "markdown",
      "source": [
        "###Normal python"
      ],
      "metadata": {
        "id": "wItkhnVa3-Ec"
      }
    },
    {
      "cell_type": "code",
      "source": [
        "data: list[int] = list(range(1,20))\n",
        "print(data)\n",
        "print(data[5:11])\n",
        "data[5:11] = 100 # ormal python does not allow this"
      ],
      "metadata": {
        "colab": {
          "base_uri": "https://localhost:8080/",
          "height": 245
        },
        "id": "DMVeAGmy3zgD",
        "outputId": "e4959148-2f82-44af-e858-b43a3fd73c3b"
      },
      "execution_count": 21,
      "outputs": [
        {
          "output_type": "stream",
          "name": "stdout",
          "text": [
            "[1, 2, 3, 4, 5, 6, 7, 8, 9, 10, 11, 12, 13, 14, 15, 16, 17, 18, 19]\n",
            "[6, 7, 8, 9, 10, 11]\n"
          ]
        },
        {
          "output_type": "error",
          "ename": "TypeError",
          "evalue": "ignored",
          "traceback": [
            "\u001b[0;31m---------------------------------------------------------------------------\u001b[0m",
            "\u001b[0;31mTypeError\u001b[0m                                 Traceback (most recent call last)",
            "\u001b[0;32m<ipython-input-21-ad79a7c58e99>\u001b[0m in \u001b[0;36m<cell line: 4>\u001b[0;34m()\u001b[0m\n\u001b[1;32m      2\u001b[0m \u001b[0mprint\u001b[0m\u001b[0;34m(\u001b[0m\u001b[0mdata\u001b[0m\u001b[0;34m)\u001b[0m\u001b[0;34m\u001b[0m\u001b[0;34m\u001b[0m\u001b[0m\n\u001b[1;32m      3\u001b[0m \u001b[0mprint\u001b[0m\u001b[0;34m(\u001b[0m\u001b[0mdata\u001b[0m\u001b[0;34m[\u001b[0m\u001b[0;36m5\u001b[0m\u001b[0;34m:\u001b[0m\u001b[0;36m11\u001b[0m\u001b[0;34m]\u001b[0m\u001b[0;34m)\u001b[0m\u001b[0;34m\u001b[0m\u001b[0;34m\u001b[0m\u001b[0m\n\u001b[0;32m----> 4\u001b[0;31m \u001b[0mdata\u001b[0m\u001b[0;34m[\u001b[0m\u001b[0;36m5\u001b[0m\u001b[0;34m:\u001b[0m\u001b[0;36m11\u001b[0m\u001b[0;34m]\u001b[0m \u001b[0;34m=\u001b[0m \u001b[0;36m100\u001b[0m\u001b[0;34m\u001b[0m\u001b[0;34m\u001b[0m\u001b[0m\n\u001b[0m",
            "\u001b[0;31mTypeError\u001b[0m: can only assign an iterable"
          ]
        }
      ]
    },
    {
      "cell_type": "code",
      "source": [
        "ndata: NDArray[Shape[\"20\"], Any] = np.arange(1,21)\n",
        "print(ndata)\n",
        "print(ndata[5:11])\n",
        "ndata[5:11] = 1000 # consider it as changing resolution of images\n",
        "print(ndata)"
      ],
      "metadata": {
        "colab": {
          "base_uri": "https://localhost:8080/"
        },
        "id": "BBkspqiM4Qa-",
        "outputId": "815f22f0-7950-4ec4-f6d9-03f0325afbdf"
      },
      "execution_count": 23,
      "outputs": [
        {
          "output_type": "stream",
          "name": "stdout",
          "text": [
            "[ 1  2  3  4  5  6  7  8  9 10 11 12 13 14 15 16 17 18 19 20]\n",
            "[ 6  7  8  9 10 11]\n",
            "[   1    2    3    4    5 1000 1000 1000 1000 1000 1000   12   13   14\n",
            "   15   16   17   18   19   20]\n"
          ]
        }
      ]
    },
    {
      "cell_type": "markdown",
      "source": [
        "# numpy 1D arrays functions"
      ],
      "metadata": {
        "id": "A71ZTDqy515_"
      }
    },
    {
      "cell_type": "code",
      "source": [
        "state_bank: NDArray[Shape[\"10\"] , Any] = np.array([1,7,8,10])\n",
        "ubl_bank: NDArray[Shape[\"100\"], Any] = np.random.randint(1,1000 , 20) # min , max, number of items\n",
        "\n",
        "display(state_bank)\n",
        "display(ubl_bank)"
      ],
      "metadata": {
        "colab": {
          "base_uri": "https://localhost:8080/",
          "height": 69
        },
        "id": "abEK4_XE4uja",
        "outputId": "c8c70748-e6d6-4545-ba74-b24d49b5e75e"
      },
      "execution_count": 25,
      "outputs": [
        {
          "output_type": "display_data",
          "data": {
            "text/plain": [
              "array([ 1,  7,  8, 10])"
            ]
          },
          "metadata": {}
        },
        {
          "output_type": "display_data",
          "data": {
            "text/plain": [
              "array([ 33,  95, 182, 311, 873, 154, 835, 544, 885, 458, 220, 335, 161,\n",
              "       430, 246, 300, 904, 661,  54, 746])"
            ]
          },
          "metadata": {}
        }
      ]
    },
    {
      "cell_type": "markdown",
      "source": [
        "##Bool search in Numpy"
      ],
      "metadata": {
        "id": "_pUKHNqv8Zfm"
      }
    },
    {
      "cell_type": "code",
      "source": [
        "from nptyping.typing_ import Bool\n",
        "import beartype\n",
        "\n",
        "state_bank: NDArray[Shape[\"4\"] , Any] = np.array([1,7,8,10])\n",
        "#[1,7,8,10]\n",
        "#[True , False , False , True]\n",
        "#variable[True , False , False , True]\n",
        "select: NDArray[Shape[\"4\"] , Bool] = np.array([True , False , False , True]) # dimention should be same as the NDArray\n",
        "# # will return in bool array\n",
        "state_bank[select]\n",
        "# state_bank[state_bank % 2 == 0]"
      ],
      "metadata": {
        "colab": {
          "base_uri": "https://localhost:8080/"
        },
        "id": "74IVds3i6n2L",
        "outputId": "9237c253-a079-479f-b9be-840e2101d5c5"
      },
      "execution_count": 47,
      "outputs": [
        {
          "output_type": "execute_result",
          "data": {
            "text/plain": [
              "array([ 1, 10])"
            ]
          },
          "metadata": {},
          "execution_count": 47
        }
      ]
    },
    {
      "cell_type": "code",
      "source": [
        "display(state_bank)\n",
        "display(ubl_bank)\n",
        "np.in1d(state_bank , ubl_bank) # first var items length returned"
      ],
      "metadata": {
        "colab": {
          "base_uri": "https://localhost:8080/",
          "height": 86
        },
        "id": "kE-ck4zp8Mzv",
        "outputId": "10e3b932-d0ef-4fc6-aec8-408f493da946"
      },
      "execution_count": 35,
      "outputs": [
        {
          "output_type": "display_data",
          "data": {
            "text/plain": [
              "array([ 1,  7,  8, 10])"
            ]
          },
          "metadata": {}
        },
        {
          "output_type": "display_data",
          "data": {
            "text/plain": [
              "array([ 33,  95, 182, 311, 873, 154, 835, 544, 885, 458, 220, 335, 161,\n",
              "       430, 246, 300, 904, 661,  54, 746])"
            ]
          },
          "metadata": {}
        },
        {
          "output_type": "execute_result",
          "data": {
            "text/plain": [
              "array([False, False, False, False])"
            ]
          },
          "metadata": {},
          "execution_count": 35
        }
      ]
    },
    {
      "cell_type": "code",
      "source": [
        "np.intersect1d(state_bank , ubl_bank)"
      ],
      "metadata": {
        "colab": {
          "base_uri": "https://localhost:8080/"
        },
        "id": "AQx8T1UG-fES",
        "outputId": "f0527ed8-d1e4-4d12-9f23-55ec02e499ad"
      },
      "execution_count": 36,
      "outputs": [
        {
          "output_type": "execute_result",
          "data": {
            "text/plain": [
              "array([], dtype=int64)"
            ]
          },
          "metadata": {},
          "execution_count": 36
        }
      ]
    },
    {
      "cell_type": "code",
      "source": [
        "ubl_bank: NDArray[Shape[\"100\"], Any] = np.random.randint(1,1000 , 20) # min , max, number of items\n",
        "hbl_bank: NDArray[Shape[\"100\"], Any] = np.random.randint(1,1000 , 20) # min , max, number of items\n",
        "display(f\"UBL bank: {ubl_bank}\")\n",
        "display(f\"HBL bank: {hbl_bank}\")\n",
        "np.where(ubl_bank > hbl_bank , ubl_bank , hbl_bank)  # use for comperison like image resultaion"
      ],
      "metadata": {
        "colab": {
          "base_uri": "https://localhost:8080/",
          "height": 88
        },
        "id": "nd-wnzUA-E2v",
        "outputId": "fac7efd4-8edc-4ee4-8247-b9a216b6c405"
      },
      "execution_count": 40,
      "outputs": [
        {
          "output_type": "display_data",
          "data": {
            "text/plain": [
              "'UBL bank: [557 705 399 876 613 259 486 925  65 499 723 649 800 819 615 958 770 340\\n 395 740]'"
            ],
            "application/vnd.google.colaboratory.intrinsic+json": {
              "type": "string"
            }
          },
          "metadata": {}
        },
        {
          "output_type": "display_data",
          "data": {
            "text/plain": [
              "'HBL bank: [289 835 117 735 675 342 584 523 444 315 865 908 823 206 965 208  99 912\\n 937 909]'"
            ],
            "application/vnd.google.colaboratory.intrinsic+json": {
              "type": "string"
            }
          },
          "metadata": {}
        },
        {
          "output_type": "execute_result",
          "data": {
            "text/plain": [
              "array([557, 835, 399, 876, 675, 342, 584, 925, 444, 499, 865, 908, 823,\n",
              "       819, 965, 958, 770, 912, 937, 909])"
            ]
          },
          "metadata": {},
          "execution_count": 40
        }
      ]
    },
    {
      "cell_type": "code",
      "source": [],
      "metadata": {
        "id": "-ZpN3USF__HW"
      },
      "execution_count": null,
      "outputs": []
    },
    {
      "cell_type": "markdown",
      "source": [
        "# Create Numpy Array"
      ],
      "metadata": {
        "id": "20KFxhoHAhC1"
      }
    },
    {
      "cell_type": "code",
      "source": [
        "a: NDArray[Shape[\"*, *\"] , Any] = np.array([[2,3,4] ,\n",
        "                                                  [5,6,7]])\n",
        "\n",
        "print(a)\n",
        "\n",
        "a: NDArray[Shape[\"* ,*\"] , Any] = np.array([[3,4] ,\n",
        "                                                  [6,7]])\n",
        "print(a)\n",
        "\n",
        "a: NDArray[Shape[\"*, *\"] , Any] = np.array([[\"A\"] ,\n",
        "                                                  [\"B\"]])\n",
        "print(a)"
      ],
      "metadata": {
        "colab": {
          "base_uri": "https://localhost:8080/"
        },
        "id": "MYu62k3oAneJ",
        "outputId": "3a3e3dfd-9977-499f-c585-ccf7d615301a"
      },
      "execution_count": 43,
      "outputs": [
        {
          "output_type": "stream",
          "name": "stdout",
          "text": [
            "[[2 3 4]\n",
            " [5 6 7]]\n",
            "[[3 4]\n",
            " [6 7]]\n",
            "[['A']\n",
            " ['B']]\n"
          ]
        }
      ]
    },
    {
      "cell_type": "code",
      "source": [
        "np.who() # tells all variables history that we have created so for"
      ],
      "metadata": {
        "colab": {
          "base_uri": "https://localhost:8080/"
        },
        "id": "WjB0ysblBG61",
        "outputId": "a6b1c426-14c0-412a-c409-35c18493bc33"
      },
      "execution_count": 44,
      "outputs": [
        {
          "output_type": "stream",
          "name": "stdout",
          "text": [
            "Name            Shape            Bytes            Type\n",
            "===========================================================\n",
            "\n",
            "_               20               160              int64\n",
            "__              20               160              int64\n",
            "___             20               160              int64\n",
            "a               2 x 1            8                str32\n",
            "_19             9999999          79999992         int64\n",
            "ndata           20               160              int64\n",
            "state_bank      4                32               int64\n",
            "ubl_bank        20               160              int64\n",
            "select          4                32               int64\n",
            "_27             4                4                bool\n",
            "_29             4                4                bool\n",
            "_30             10               10               bool\n",
            "_31             4                4                bool\n",
            "_32             2                16               int64\n",
            "_33             4                4                bool\n",
            "_34             4                4                bool\n",
            "_35             4                4                bool\n",
            "_36             0                0                int64\n",
            "hbl_bank        20               160              int64\n",
            "_37 (___)       20               160              int64\n",
            "_38 (__)        20               160              int64\n",
            "_40 (_)         20               160              int64\n",
            "\n",
            "Upper bound on total bytes  =       80001074\n"
          ]
        }
      ]
    },
    {
      "cell_type": "code",
      "source": [
        "a: NDArray[Shape[\"Size, Size\"] , Any] = np.arange(3*3).reshape(3,3)\n",
        "\n",
        "print(a)"
      ],
      "metadata": {
        "colab": {
          "base_uri": "https://localhost:8080/"
        },
        "id": "epGCmkSzBsN6",
        "outputId": "da751df6-9ed8-41d9-a7bb-6cfa97ac9146"
      },
      "execution_count": 45,
      "outputs": [
        {
          "output_type": "stream",
          "name": "stdout",
          "text": [
            "[[0 1 2]\n",
            " [3 4 5]\n",
            " [6 7 8]]\n"
          ]
        }
      ]
    },
    {
      "cell_type": "code",
      "source": [
        "a: NDArray[Shape[\"Size, Size , Size\"] , Any] = np.arange(2*3*3).reshape(2,3,3)\n",
        "\n",
        "print(a)"
      ],
      "metadata": {
        "colab": {
          "base_uri": "https://localhost:8080/"
        },
        "id": "N50PHaS7EMuC",
        "outputId": "6910112c-4253-4a2f-e15f-c9758a0cd410"
      },
      "execution_count": 46,
      "outputs": [
        {
          "output_type": "stream",
          "name": "stdout",
          "text": [
            "[[[ 0  1  2]\n",
            "  [ 3  4  5]\n",
            "  [ 6  7  8]]\n",
            "\n",
            " [[ 9 10 11]\n",
            "  [12 13 14]\n",
            "  [15 16 17]]]\n"
          ]
        }
      ]
    },
    {
      "cell_type": "code",
      "source": [],
      "metadata": {
        "id": "xzB_rUUvERaU"
      },
      "execution_count": null,
      "outputs": []
    }
  ]
}