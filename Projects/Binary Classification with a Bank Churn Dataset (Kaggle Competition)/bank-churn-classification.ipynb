{
 "cells": [
  {
   "cell_type": "code",
   "execution_count": 1,
   "id": "9a0f544b",
   "metadata": {
    "_cell_guid": "b1076dfc-b9ad-4769-8c92-a6c4dae69d19",
    "_uuid": "8f2839f25d086af736a60e9eeb907d3b93b6e0e5",
    "execution": {
     "iopub.execute_input": "2024-01-31T21:54:10.012765Z",
     "iopub.status.busy": "2024-01-31T21:54:10.012377Z",
     "iopub.status.idle": "2024-01-31T21:54:10.775616Z",
     "shell.execute_reply": "2024-01-31T21:54:10.774481Z"
    },
    "papermill": {
     "duration": 0.779801,
     "end_time": "2024-01-31T21:54:10.778167",
     "exception": false,
     "start_time": "2024-01-31T21:54:09.998366",
     "status": "completed"
    },
    "tags": []
   },
   "outputs": [
    {
     "name": "stdout",
     "output_type": "stream",
     "text": [
      "/kaggle/input/playground-series-s4e1/sample_submission.csv\n",
      "/kaggle/input/playground-series-s4e1/train.csv\n",
      "/kaggle/input/playground-series-s4e1/test.csv\n"
     ]
    }
   ],
   "source": [
    "# This Python 3 environment comes with many helpful analytics libraries installed\n",
    "# It is defined by the kaggle/python Docker image: https://github.com/kaggle/docker-python\n",
    "# For example, here's several helpful packages to load\n",
    "\n",
    "import numpy as np # linear algebra\n",
    "import pandas as pd # data processing, CSV file I/O (e.g. pd.read_csv)\n",
    "\n",
    "# Input data files are available in the read-only \"../input/\" directory\n",
    "# For example, running this (by clicking run or pressing Shift+Enter) will list all files under the input directory\n",
    "\n",
    "import os\n",
    "for dirname, _, filenames in os.walk('/kaggle/input'):\n",
    "    for filename in filenames:\n",
    "        print(os.path.join(dirname, filename))\n",
    "\n",
    "# You can write up to 20GB to the current directory (/kaggle/working/) that gets preserved as output when you create a version using \"Save & Run All\" \n",
    "# You can also write temporary files to /kaggle/temp/, but they won't be saved outside of the current session"
   ]
  },
  {
   "cell_type": "code",
   "execution_count": 2,
   "id": "cd0546a4",
   "metadata": {
    "execution": {
     "iopub.execute_input": "2024-01-31T21:54:10.804713Z",
     "iopub.status.busy": "2024-01-31T21:54:10.803744Z",
     "iopub.status.idle": "2024-01-31T21:54:11.588550Z",
     "shell.execute_reply": "2024-01-31T21:54:11.587728Z"
    },
    "papermill": {
     "duration": 0.800459,
     "end_time": "2024-01-31T21:54:11.590931",
     "exception": false,
     "start_time": "2024-01-31T21:54:10.790472",
     "status": "completed"
    },
    "tags": []
   },
   "outputs": [],
   "source": [
    "df1 = pd.read_csv(\"/kaggle/input/playground-series-s4e1/sample_submission.csv\")\n",
    "df2 = pd.read_csv(\"/kaggle/input/playground-series-s4e1/test.csv\")\n",
    "df3 = pd.read_csv(\"/kaggle/input/playground-series-s4e1/train.csv\")\n"
   ]
  },
  {
   "cell_type": "markdown",
   "id": "ab7225d7",
   "metadata": {
    "papermill": {
     "duration": 0.0119,
     "end_time": "2024-01-31T21:54:11.615222",
     "exception": false,
     "start_time": "2024-01-31T21:54:11.603322",
     "status": "completed"
    },
    "tags": []
   },
   "source": [
    "## Sample_submittion dataset preprocessing"
   ]
  },
  {
   "cell_type": "code",
   "execution_count": 3,
   "id": "07943524",
   "metadata": {
    "execution": {
     "iopub.execute_input": "2024-01-31T21:54:11.642247Z",
     "iopub.status.busy": "2024-01-31T21:54:11.641523Z",
     "iopub.status.idle": "2024-01-31T21:54:11.657741Z",
     "shell.execute_reply": "2024-01-31T21:54:11.656706Z"
    },
    "papermill": {
     "duration": 0.032424,
     "end_time": "2024-01-31T21:54:11.659697",
     "exception": false,
     "start_time": "2024-01-31T21:54:11.627273",
     "status": "completed"
    },
    "tags": []
   },
   "outputs": [
    {
     "name": "stdout",
     "output_type": "stream",
     "text": [
      "(110023, 2)\n"
     ]
    },
    {
     "data": {
      "text/html": [
       "<div>\n",
       "<style scoped>\n",
       "    .dataframe tbody tr th:only-of-type {\n",
       "        vertical-align: middle;\n",
       "    }\n",
       "\n",
       "    .dataframe tbody tr th {\n",
       "        vertical-align: top;\n",
       "    }\n",
       "\n",
       "    .dataframe thead th {\n",
       "        text-align: right;\n",
       "    }\n",
       "</style>\n",
       "<table border=\"1\" class=\"dataframe\">\n",
       "  <thead>\n",
       "    <tr style=\"text-align: right;\">\n",
       "      <th></th>\n",
       "      <th>id</th>\n",
       "      <th>Exited</th>\n",
       "    </tr>\n",
       "  </thead>\n",
       "  <tbody>\n",
       "    <tr>\n",
       "      <th>0</th>\n",
       "      <td>165034</td>\n",
       "      <td>0.5</td>\n",
       "    </tr>\n",
       "    <tr>\n",
       "      <th>1</th>\n",
       "      <td>165035</td>\n",
       "      <td>0.5</td>\n",
       "    </tr>\n",
       "    <tr>\n",
       "      <th>2</th>\n",
       "      <td>165036</td>\n",
       "      <td>0.5</td>\n",
       "    </tr>\n",
       "    <tr>\n",
       "      <th>3</th>\n",
       "      <td>165037</td>\n",
       "      <td>0.5</td>\n",
       "    </tr>\n",
       "    <tr>\n",
       "      <th>4</th>\n",
       "      <td>165038</td>\n",
       "      <td>0.5</td>\n",
       "    </tr>\n",
       "  </tbody>\n",
       "</table>\n",
       "</div>"
      ],
      "text/plain": [
       "       id  Exited\n",
       "0  165034     0.5\n",
       "1  165035     0.5\n",
       "2  165036     0.5\n",
       "3  165037     0.5\n",
       "4  165038     0.5"
      ]
     },
     "execution_count": 3,
     "metadata": {},
     "output_type": "execute_result"
    }
   ],
   "source": [
    "print(df1.shape)\n",
    "df1.head()"
   ]
  },
  {
   "cell_type": "code",
   "execution_count": 4,
   "id": "a2c87617",
   "metadata": {
    "execution": {
     "iopub.execute_input": "2024-01-31T21:54:11.686262Z",
     "iopub.status.busy": "2024-01-31T21:54:11.685917Z",
     "iopub.status.idle": "2024-01-31T21:54:11.706990Z",
     "shell.execute_reply": "2024-01-31T21:54:11.706044Z"
    },
    "papermill": {
     "duration": 0.036876,
     "end_time": "2024-01-31T21:54:11.709215",
     "exception": false,
     "start_time": "2024-01-31T21:54:11.672339",
     "status": "completed"
    },
    "tags": []
   },
   "outputs": [
    {
     "data": {
      "text/html": [
       "<div>\n",
       "<style scoped>\n",
       "    .dataframe tbody tr th:only-of-type {\n",
       "        vertical-align: middle;\n",
       "    }\n",
       "\n",
       "    .dataframe tbody tr th {\n",
       "        vertical-align: top;\n",
       "    }\n",
       "\n",
       "    .dataframe thead th {\n",
       "        text-align: right;\n",
       "    }\n",
       "</style>\n",
       "<table border=\"1\" class=\"dataframe\">\n",
       "  <thead>\n",
       "    <tr style=\"text-align: right;\">\n",
       "      <th></th>\n",
       "      <th>Exited</th>\n",
       "    </tr>\n",
       "  </thead>\n",
       "  <tbody>\n",
       "    <tr>\n",
       "      <th>0</th>\n",
       "      <td>0</td>\n",
       "    </tr>\n",
       "    <tr>\n",
       "      <th>1</th>\n",
       "      <td>0</td>\n",
       "    </tr>\n",
       "    <tr>\n",
       "      <th>2</th>\n",
       "      <td>0</td>\n",
       "    </tr>\n",
       "    <tr>\n",
       "      <th>3</th>\n",
       "      <td>0</td>\n",
       "    </tr>\n",
       "    <tr>\n",
       "      <th>4</th>\n",
       "      <td>0</td>\n",
       "    </tr>\n",
       "    <tr>\n",
       "      <th>...</th>\n",
       "      <td>...</td>\n",
       "    </tr>\n",
       "    <tr>\n",
       "      <th>110018</th>\n",
       "      <td>0</td>\n",
       "    </tr>\n",
       "    <tr>\n",
       "      <th>110019</th>\n",
       "      <td>0</td>\n",
       "    </tr>\n",
       "    <tr>\n",
       "      <th>110020</th>\n",
       "      <td>0</td>\n",
       "    </tr>\n",
       "    <tr>\n",
       "      <th>110021</th>\n",
       "      <td>0</td>\n",
       "    </tr>\n",
       "    <tr>\n",
       "      <th>110022</th>\n",
       "      <td>0</td>\n",
       "    </tr>\n",
       "  </tbody>\n",
       "</table>\n",
       "<p>110023 rows × 1 columns</p>\n",
       "</div>"
      ],
      "text/plain": [
       "        Exited\n",
       "0            0\n",
       "1            0\n",
       "2            0\n",
       "3            0\n",
       "4            0\n",
       "...        ...\n",
       "110018       0\n",
       "110019       0\n",
       "110020       0\n",
       "110021       0\n",
       "110022       0\n",
       "\n",
       "[110023 rows x 1 columns]"
      ]
     },
     "execution_count": 4,
     "metadata": {},
     "output_type": "execute_result"
    }
   ],
   "source": [
    "Y_test = df1.drop(columns=['id'])\n",
    "Y_test = Y_test.astype('int64')\n",
    "Y_test"
   ]
  },
  {
   "cell_type": "markdown",
   "id": "bd67ee44",
   "metadata": {
    "papermill": {
     "duration": 0.01227,
     "end_time": "2024-01-31T21:54:11.734033",
     "exception": false,
     "start_time": "2024-01-31T21:54:11.721763",
     "status": "completed"
    },
    "tags": []
   },
   "source": [
    "## Test dataset preprocessing"
   ]
  },
  {
   "cell_type": "code",
   "execution_count": 5,
   "id": "942933ea",
   "metadata": {
    "execution": {
     "iopub.execute_input": "2024-01-31T21:54:11.760202Z",
     "iopub.status.busy": "2024-01-31T21:54:11.759881Z",
     "iopub.status.idle": "2024-01-31T21:54:11.777208Z",
     "shell.execute_reply": "2024-01-31T21:54:11.776275Z"
    },
    "papermill": {
     "duration": 0.032783,
     "end_time": "2024-01-31T21:54:11.779294",
     "exception": false,
     "start_time": "2024-01-31T21:54:11.746511",
     "status": "completed"
    },
    "tags": []
   },
   "outputs": [
    {
     "name": "stdout",
     "output_type": "stream",
     "text": [
      "(110023, 13)\n"
     ]
    },
    {
     "data": {
      "text/html": [
       "<div>\n",
       "<style scoped>\n",
       "    .dataframe tbody tr th:only-of-type {\n",
       "        vertical-align: middle;\n",
       "    }\n",
       "\n",
       "    .dataframe tbody tr th {\n",
       "        vertical-align: top;\n",
       "    }\n",
       "\n",
       "    .dataframe thead th {\n",
       "        text-align: right;\n",
       "    }\n",
       "</style>\n",
       "<table border=\"1\" class=\"dataframe\">\n",
       "  <thead>\n",
       "    <tr style=\"text-align: right;\">\n",
       "      <th></th>\n",
       "      <th>id</th>\n",
       "      <th>CustomerId</th>\n",
       "      <th>Surname</th>\n",
       "      <th>CreditScore</th>\n",
       "      <th>Geography</th>\n",
       "      <th>Gender</th>\n",
       "      <th>Age</th>\n",
       "      <th>Tenure</th>\n",
       "      <th>Balance</th>\n",
       "      <th>NumOfProducts</th>\n",
       "      <th>HasCrCard</th>\n",
       "      <th>IsActiveMember</th>\n",
       "      <th>EstimatedSalary</th>\n",
       "    </tr>\n",
       "  </thead>\n",
       "  <tbody>\n",
       "    <tr>\n",
       "      <th>0</th>\n",
       "      <td>165034</td>\n",
       "      <td>15773898</td>\n",
       "      <td>Lucchese</td>\n",
       "      <td>586</td>\n",
       "      <td>France</td>\n",
       "      <td>Female</td>\n",
       "      <td>23.0</td>\n",
       "      <td>2</td>\n",
       "      <td>0.00</td>\n",
       "      <td>2</td>\n",
       "      <td>0.0</td>\n",
       "      <td>1.0</td>\n",
       "      <td>160976.75</td>\n",
       "    </tr>\n",
       "    <tr>\n",
       "      <th>1</th>\n",
       "      <td>165035</td>\n",
       "      <td>15782418</td>\n",
       "      <td>Nott</td>\n",
       "      <td>683</td>\n",
       "      <td>France</td>\n",
       "      <td>Female</td>\n",
       "      <td>46.0</td>\n",
       "      <td>2</td>\n",
       "      <td>0.00</td>\n",
       "      <td>1</td>\n",
       "      <td>1.0</td>\n",
       "      <td>0.0</td>\n",
       "      <td>72549.27</td>\n",
       "    </tr>\n",
       "    <tr>\n",
       "      <th>2</th>\n",
       "      <td>165036</td>\n",
       "      <td>15807120</td>\n",
       "      <td>K?</td>\n",
       "      <td>656</td>\n",
       "      <td>France</td>\n",
       "      <td>Female</td>\n",
       "      <td>34.0</td>\n",
       "      <td>7</td>\n",
       "      <td>0.00</td>\n",
       "      <td>2</td>\n",
       "      <td>1.0</td>\n",
       "      <td>0.0</td>\n",
       "      <td>138882.09</td>\n",
       "    </tr>\n",
       "    <tr>\n",
       "      <th>3</th>\n",
       "      <td>165037</td>\n",
       "      <td>15808905</td>\n",
       "      <td>O'Donnell</td>\n",
       "      <td>681</td>\n",
       "      <td>France</td>\n",
       "      <td>Male</td>\n",
       "      <td>36.0</td>\n",
       "      <td>8</td>\n",
       "      <td>0.00</td>\n",
       "      <td>1</td>\n",
       "      <td>1.0</td>\n",
       "      <td>0.0</td>\n",
       "      <td>113931.57</td>\n",
       "    </tr>\n",
       "    <tr>\n",
       "      <th>4</th>\n",
       "      <td>165038</td>\n",
       "      <td>15607314</td>\n",
       "      <td>Higgins</td>\n",
       "      <td>752</td>\n",
       "      <td>Germany</td>\n",
       "      <td>Male</td>\n",
       "      <td>38.0</td>\n",
       "      <td>10</td>\n",
       "      <td>121263.62</td>\n",
       "      <td>1</td>\n",
       "      <td>1.0</td>\n",
       "      <td>0.0</td>\n",
       "      <td>139431.00</td>\n",
       "    </tr>\n",
       "  </tbody>\n",
       "</table>\n",
       "</div>"
      ],
      "text/plain": [
       "       id  CustomerId    Surname  CreditScore Geography  Gender   Age  Tenure  \\\n",
       "0  165034    15773898   Lucchese          586    France  Female  23.0       2   \n",
       "1  165035    15782418       Nott          683    France  Female  46.0       2   \n",
       "2  165036    15807120         K?          656    France  Female  34.0       7   \n",
       "3  165037    15808905  O'Donnell          681    France    Male  36.0       8   \n",
       "4  165038    15607314    Higgins          752   Germany    Male  38.0      10   \n",
       "\n",
       "     Balance  NumOfProducts  HasCrCard  IsActiveMember  EstimatedSalary  \n",
       "0       0.00              2        0.0             1.0        160976.75  \n",
       "1       0.00              1        1.0             0.0         72549.27  \n",
       "2       0.00              2        1.0             0.0        138882.09  \n",
       "3       0.00              1        1.0             0.0        113931.57  \n",
       "4  121263.62              1        1.0             0.0        139431.00  "
      ]
     },
     "execution_count": 5,
     "metadata": {},
     "output_type": "execute_result"
    }
   ],
   "source": [
    "print(df2.shape)\n",
    "df2.head()"
   ]
  },
  {
   "cell_type": "code",
   "execution_count": 6,
   "id": "d2b13953",
   "metadata": {
    "execution": {
     "iopub.execute_input": "2024-01-31T21:54:11.807233Z",
     "iopub.status.busy": "2024-01-31T21:54:11.806611Z",
     "iopub.status.idle": "2024-01-31T21:54:11.876098Z",
     "shell.execute_reply": "2024-01-31T21:54:11.875174Z"
    },
    "papermill": {
     "duration": 0.085911,
     "end_time": "2024-01-31T21:54:11.878130",
     "exception": false,
     "start_time": "2024-01-31T21:54:11.792219",
     "status": "completed"
    },
    "tags": []
   },
   "outputs": [
    {
     "data": {
      "text/plain": [
       "0"
      ]
     },
     "execution_count": 6,
     "metadata": {},
     "output_type": "execute_result"
    }
   ],
   "source": [
    "df2.duplicated().sum()"
   ]
  },
  {
   "cell_type": "code",
   "execution_count": 7,
   "id": "cacd068b",
   "metadata": {
    "execution": {
     "iopub.execute_input": "2024-01-31T21:54:11.906854Z",
     "iopub.status.busy": "2024-01-31T21:54:11.906124Z",
     "iopub.status.idle": "2024-01-31T21:54:11.955047Z",
     "shell.execute_reply": "2024-01-31T21:54:11.953813Z"
    },
    "papermill": {
     "duration": 0.065562,
     "end_time": "2024-01-31T21:54:11.957143",
     "exception": false,
     "start_time": "2024-01-31T21:54:11.891581",
     "status": "completed"
    },
    "tags": []
   },
   "outputs": [
    {
     "name": "stdout",
     "output_type": "stream",
     "text": [
      "<class 'pandas.core.frame.DataFrame'>\n",
      "RangeIndex: 110023 entries, 0 to 110022\n",
      "Data columns (total 13 columns):\n",
      " #   Column           Non-Null Count   Dtype  \n",
      "---  ------           --------------   -----  \n",
      " 0   id               110023 non-null  int64  \n",
      " 1   CustomerId       110023 non-null  int64  \n",
      " 2   Surname          110023 non-null  object \n",
      " 3   CreditScore      110023 non-null  int64  \n",
      " 4   Geography        110023 non-null  object \n",
      " 5   Gender           110023 non-null  object \n",
      " 6   Age              110023 non-null  float64\n",
      " 7   Tenure           110023 non-null  int64  \n",
      " 8   Balance          110023 non-null  float64\n",
      " 9   NumOfProducts    110023 non-null  int64  \n",
      " 10  HasCrCard        110023 non-null  float64\n",
      " 11  IsActiveMember   110023 non-null  float64\n",
      " 12  EstimatedSalary  110023 non-null  float64\n",
      "dtypes: float64(5), int64(5), object(3)\n",
      "memory usage: 10.9+ MB\n"
     ]
    }
   ],
   "source": [
    "df2.info()"
   ]
  },
  {
   "cell_type": "code",
   "execution_count": 8,
   "id": "1665f47a",
   "metadata": {
    "execution": {
     "iopub.execute_input": "2024-01-31T21:54:11.984639Z",
     "iopub.status.busy": "2024-01-31T21:54:11.984331Z",
     "iopub.status.idle": "2024-01-31T21:54:11.993561Z",
     "shell.execute_reply": "2024-01-31T21:54:11.992862Z"
    },
    "papermill": {
     "duration": 0.025137,
     "end_time": "2024-01-31T21:54:11.995484",
     "exception": false,
     "start_time": "2024-01-31T21:54:11.970347",
     "status": "completed"
    },
    "tags": []
   },
   "outputs": [],
   "source": [
    "df2.drop(columns=['id' , 'CustomerId', 'Surname' ], inplace= True)"
   ]
  },
  {
   "cell_type": "code",
   "execution_count": 9,
   "id": "46a46de1",
   "metadata": {
    "execution": {
     "iopub.execute_input": "2024-01-31T21:54:12.023010Z",
     "iopub.status.busy": "2024-01-31T21:54:12.022456Z",
     "iopub.status.idle": "2024-01-31T21:54:12.054369Z",
     "shell.execute_reply": "2024-01-31T21:54:12.053587Z"
    },
    "papermill": {
     "duration": 0.048243,
     "end_time": "2024-01-31T21:54:12.056740",
     "exception": false,
     "start_time": "2024-01-31T21:54:12.008497",
     "status": "completed"
    },
    "tags": []
   },
   "outputs": [],
   "source": [
    "df2 = pd.get_dummies(df2, columns=['Geography', 'Gender'] , drop_first = True )"
   ]
  },
  {
   "cell_type": "code",
   "execution_count": 10,
   "id": "1a32782d",
   "metadata": {
    "execution": {
     "iopub.execute_input": "2024-01-31T21:54:12.084721Z",
     "iopub.status.busy": "2024-01-31T21:54:12.084341Z",
     "iopub.status.idle": "2024-01-31T21:54:12.091228Z",
     "shell.execute_reply": "2024-01-31T21:54:12.090335Z"
    },
    "papermill": {
     "duration": 0.023255,
     "end_time": "2024-01-31T21:54:12.093271",
     "exception": false,
     "start_time": "2024-01-31T21:54:12.070016",
     "status": "completed"
    },
    "tags": []
   },
   "outputs": [],
   "source": [
    "df2 = df2.astype('int64')"
   ]
  },
  {
   "cell_type": "code",
   "execution_count": 11,
   "id": "bee0eba2",
   "metadata": {
    "execution": {
     "iopub.execute_input": "2024-01-31T21:54:12.121059Z",
     "iopub.status.busy": "2024-01-31T21:54:12.120719Z",
     "iopub.status.idle": "2024-01-31T21:54:12.132905Z",
     "shell.execute_reply": "2024-01-31T21:54:12.132091Z"
    },
    "papermill": {
     "duration": 0.028315,
     "end_time": "2024-01-31T21:54:12.134831",
     "exception": false,
     "start_time": "2024-01-31T21:54:12.106516",
     "status": "completed"
    },
    "tags": []
   },
   "outputs": [
    {
     "data": {
      "text/html": [
       "<div>\n",
       "<style scoped>\n",
       "    .dataframe tbody tr th:only-of-type {\n",
       "        vertical-align: middle;\n",
       "    }\n",
       "\n",
       "    .dataframe tbody tr th {\n",
       "        vertical-align: top;\n",
       "    }\n",
       "\n",
       "    .dataframe thead th {\n",
       "        text-align: right;\n",
       "    }\n",
       "</style>\n",
       "<table border=\"1\" class=\"dataframe\">\n",
       "  <thead>\n",
       "    <tr style=\"text-align: right;\">\n",
       "      <th></th>\n",
       "      <th>CreditScore</th>\n",
       "      <th>Age</th>\n",
       "      <th>Tenure</th>\n",
       "      <th>Balance</th>\n",
       "      <th>NumOfProducts</th>\n",
       "      <th>HasCrCard</th>\n",
       "      <th>IsActiveMember</th>\n",
       "      <th>EstimatedSalary</th>\n",
       "      <th>Geography_Germany</th>\n",
       "      <th>Geography_Spain</th>\n",
       "      <th>Gender_Male</th>\n",
       "    </tr>\n",
       "  </thead>\n",
       "  <tbody>\n",
       "    <tr>\n",
       "      <th>0</th>\n",
       "      <td>586</td>\n",
       "      <td>23</td>\n",
       "      <td>2</td>\n",
       "      <td>0</td>\n",
       "      <td>2</td>\n",
       "      <td>0</td>\n",
       "      <td>1</td>\n",
       "      <td>160976</td>\n",
       "      <td>0</td>\n",
       "      <td>0</td>\n",
       "      <td>0</td>\n",
       "    </tr>\n",
       "    <tr>\n",
       "      <th>1</th>\n",
       "      <td>683</td>\n",
       "      <td>46</td>\n",
       "      <td>2</td>\n",
       "      <td>0</td>\n",
       "      <td>1</td>\n",
       "      <td>1</td>\n",
       "      <td>0</td>\n",
       "      <td>72549</td>\n",
       "      <td>0</td>\n",
       "      <td>0</td>\n",
       "      <td>0</td>\n",
       "    </tr>\n",
       "    <tr>\n",
       "      <th>2</th>\n",
       "      <td>656</td>\n",
       "      <td>34</td>\n",
       "      <td>7</td>\n",
       "      <td>0</td>\n",
       "      <td>2</td>\n",
       "      <td>1</td>\n",
       "      <td>0</td>\n",
       "      <td>138882</td>\n",
       "      <td>0</td>\n",
       "      <td>0</td>\n",
       "      <td>0</td>\n",
       "    </tr>\n",
       "    <tr>\n",
       "      <th>3</th>\n",
       "      <td>681</td>\n",
       "      <td>36</td>\n",
       "      <td>8</td>\n",
       "      <td>0</td>\n",
       "      <td>1</td>\n",
       "      <td>1</td>\n",
       "      <td>0</td>\n",
       "      <td>113931</td>\n",
       "      <td>0</td>\n",
       "      <td>0</td>\n",
       "      <td>1</td>\n",
       "    </tr>\n",
       "    <tr>\n",
       "      <th>4</th>\n",
       "      <td>752</td>\n",
       "      <td>38</td>\n",
       "      <td>10</td>\n",
       "      <td>121263</td>\n",
       "      <td>1</td>\n",
       "      <td>1</td>\n",
       "      <td>0</td>\n",
       "      <td>139431</td>\n",
       "      <td>1</td>\n",
       "      <td>0</td>\n",
       "      <td>1</td>\n",
       "    </tr>\n",
       "  </tbody>\n",
       "</table>\n",
       "</div>"
      ],
      "text/plain": [
       "   CreditScore  Age  Tenure  Balance  NumOfProducts  HasCrCard  \\\n",
       "0          586   23       2        0              2          0   \n",
       "1          683   46       2        0              1          1   \n",
       "2          656   34       7        0              2          1   \n",
       "3          681   36       8        0              1          1   \n",
       "4          752   38      10   121263              1          1   \n",
       "\n",
       "   IsActiveMember  EstimatedSalary  Geography_Germany  Geography_Spain  \\\n",
       "0               1           160976                  0                0   \n",
       "1               0            72549                  0                0   \n",
       "2               0           138882                  0                0   \n",
       "3               0           113931                  0                0   \n",
       "4               0           139431                  1                0   \n",
       "\n",
       "   Gender_Male  \n",
       "0            0  \n",
       "1            0  \n",
       "2            0  \n",
       "3            1  \n",
       "4            1  "
      ]
     },
     "execution_count": 11,
     "metadata": {},
     "output_type": "execute_result"
    }
   ],
   "source": [
    "df2.head()"
   ]
  },
  {
   "cell_type": "code",
   "execution_count": 12,
   "id": "d40c1f1a",
   "metadata": {
    "execution": {
     "iopub.execute_input": "2024-01-31T21:54:12.163324Z",
     "iopub.status.busy": "2024-01-31T21:54:12.162952Z",
     "iopub.status.idle": "2024-01-31T21:54:12.174949Z",
     "shell.execute_reply": "2024-01-31T21:54:12.173633Z"
    },
    "papermill": {
     "duration": 0.028882,
     "end_time": "2024-01-31T21:54:12.177141",
     "exception": false,
     "start_time": "2024-01-31T21:54:12.148259",
     "status": "completed"
    },
    "tags": []
   },
   "outputs": [
    {
     "name": "stdout",
     "output_type": "stream",
     "text": [
      "<class 'pandas.core.frame.DataFrame'>\n",
      "RangeIndex: 110023 entries, 0 to 110022\n",
      "Data columns (total 11 columns):\n",
      " #   Column             Non-Null Count   Dtype\n",
      "---  ------             --------------   -----\n",
      " 0   CreditScore        110023 non-null  int64\n",
      " 1   Age                110023 non-null  int64\n",
      " 2   Tenure             110023 non-null  int64\n",
      " 3   Balance            110023 non-null  int64\n",
      " 4   NumOfProducts      110023 non-null  int64\n",
      " 5   HasCrCard          110023 non-null  int64\n",
      " 6   IsActiveMember     110023 non-null  int64\n",
      " 7   EstimatedSalary    110023 non-null  int64\n",
      " 8   Geography_Germany  110023 non-null  int64\n",
      " 9   Geography_Spain    110023 non-null  int64\n",
      " 10  Gender_Male        110023 non-null  int64\n",
      "dtypes: int64(11)\n",
      "memory usage: 9.2 MB\n"
     ]
    }
   ],
   "source": [
    "df2.info()"
   ]
  },
  {
   "cell_type": "code",
   "execution_count": 13,
   "id": "9b9358ef",
   "metadata": {
    "execution": {
     "iopub.execute_input": "2024-01-31T21:54:12.205405Z",
     "iopub.status.busy": "2024-01-31T21:54:12.205080Z",
     "iopub.status.idle": "2024-01-31T21:54:13.187511Z",
     "shell.execute_reply": "2024-01-31T21:54:13.186619Z"
    },
    "papermill": {
     "duration": 0.999499,
     "end_time": "2024-01-31T21:54:13.190170",
     "exception": false,
     "start_time": "2024-01-31T21:54:12.190671",
     "status": "completed"
    },
    "tags": []
   },
   "outputs": [],
   "source": [
    "from sklearn.preprocessing import StandardScaler\n",
    "scaler = StandardScaler()"
   ]
  },
  {
   "cell_type": "code",
   "execution_count": 14,
   "id": "f6b33e45",
   "metadata": {
    "execution": {
     "iopub.execute_input": "2024-01-31T21:54:13.224671Z",
     "iopub.status.busy": "2024-01-31T21:54:13.224120Z",
     "iopub.status.idle": "2024-01-31T21:54:13.248872Z",
     "shell.execute_reply": "2024-01-31T21:54:13.247977Z"
    },
    "papermill": {
     "duration": 0.045096,
     "end_time": "2024-01-31T21:54:13.251464",
     "exception": false,
     "start_time": "2024-01-31T21:54:13.206368",
     "status": "completed"
    },
    "tags": []
   },
   "outputs": [],
   "source": [
    "scaled_test = scaler.fit_transform(df2)"
   ]
  },
  {
   "cell_type": "markdown",
   "id": "87e53e79",
   "metadata": {
    "papermill": {
     "duration": 0.014696,
     "end_time": "2024-01-31T21:54:13.282476",
     "exception": false,
     "start_time": "2024-01-31T21:54:13.267780",
     "status": "completed"
    },
    "tags": []
   },
   "source": [
    "## Train dataset Preprocessing"
   ]
  },
  {
   "cell_type": "code",
   "execution_count": 15,
   "id": "53d29dac",
   "metadata": {
    "execution": {
     "iopub.execute_input": "2024-01-31T21:54:13.312752Z",
     "iopub.status.busy": "2024-01-31T21:54:13.312040Z",
     "iopub.status.idle": "2024-01-31T21:54:13.329789Z",
     "shell.execute_reply": "2024-01-31T21:54:13.328804Z"
    },
    "papermill": {
     "duration": 0.035448,
     "end_time": "2024-01-31T21:54:13.332149",
     "exception": false,
     "start_time": "2024-01-31T21:54:13.296701",
     "status": "completed"
    },
    "tags": []
   },
   "outputs": [
    {
     "name": "stdout",
     "output_type": "stream",
     "text": [
      "(165034, 14)\n"
     ]
    },
    {
     "data": {
      "text/html": [
       "<div>\n",
       "<style scoped>\n",
       "    .dataframe tbody tr th:only-of-type {\n",
       "        vertical-align: middle;\n",
       "    }\n",
       "\n",
       "    .dataframe tbody tr th {\n",
       "        vertical-align: top;\n",
       "    }\n",
       "\n",
       "    .dataframe thead th {\n",
       "        text-align: right;\n",
       "    }\n",
       "</style>\n",
       "<table border=\"1\" class=\"dataframe\">\n",
       "  <thead>\n",
       "    <tr style=\"text-align: right;\">\n",
       "      <th></th>\n",
       "      <th>id</th>\n",
       "      <th>CustomerId</th>\n",
       "      <th>Surname</th>\n",
       "      <th>CreditScore</th>\n",
       "      <th>Geography</th>\n",
       "      <th>Gender</th>\n",
       "      <th>Age</th>\n",
       "      <th>Tenure</th>\n",
       "      <th>Balance</th>\n",
       "      <th>NumOfProducts</th>\n",
       "      <th>HasCrCard</th>\n",
       "      <th>IsActiveMember</th>\n",
       "      <th>EstimatedSalary</th>\n",
       "      <th>Exited</th>\n",
       "    </tr>\n",
       "  </thead>\n",
       "  <tbody>\n",
       "    <tr>\n",
       "      <th>0</th>\n",
       "      <td>0</td>\n",
       "      <td>15674932</td>\n",
       "      <td>Okwudilichukwu</td>\n",
       "      <td>668</td>\n",
       "      <td>France</td>\n",
       "      <td>Male</td>\n",
       "      <td>33.0</td>\n",
       "      <td>3</td>\n",
       "      <td>0.00</td>\n",
       "      <td>2</td>\n",
       "      <td>1.0</td>\n",
       "      <td>0.0</td>\n",
       "      <td>181449.97</td>\n",
       "      <td>0</td>\n",
       "    </tr>\n",
       "    <tr>\n",
       "      <th>1</th>\n",
       "      <td>1</td>\n",
       "      <td>15749177</td>\n",
       "      <td>Okwudiliolisa</td>\n",
       "      <td>627</td>\n",
       "      <td>France</td>\n",
       "      <td>Male</td>\n",
       "      <td>33.0</td>\n",
       "      <td>1</td>\n",
       "      <td>0.00</td>\n",
       "      <td>2</td>\n",
       "      <td>1.0</td>\n",
       "      <td>1.0</td>\n",
       "      <td>49503.50</td>\n",
       "      <td>0</td>\n",
       "    </tr>\n",
       "    <tr>\n",
       "      <th>2</th>\n",
       "      <td>2</td>\n",
       "      <td>15694510</td>\n",
       "      <td>Hsueh</td>\n",
       "      <td>678</td>\n",
       "      <td>France</td>\n",
       "      <td>Male</td>\n",
       "      <td>40.0</td>\n",
       "      <td>10</td>\n",
       "      <td>0.00</td>\n",
       "      <td>2</td>\n",
       "      <td>1.0</td>\n",
       "      <td>0.0</td>\n",
       "      <td>184866.69</td>\n",
       "      <td>0</td>\n",
       "    </tr>\n",
       "    <tr>\n",
       "      <th>3</th>\n",
       "      <td>3</td>\n",
       "      <td>15741417</td>\n",
       "      <td>Kao</td>\n",
       "      <td>581</td>\n",
       "      <td>France</td>\n",
       "      <td>Male</td>\n",
       "      <td>34.0</td>\n",
       "      <td>2</td>\n",
       "      <td>148882.54</td>\n",
       "      <td>1</td>\n",
       "      <td>1.0</td>\n",
       "      <td>1.0</td>\n",
       "      <td>84560.88</td>\n",
       "      <td>0</td>\n",
       "    </tr>\n",
       "    <tr>\n",
       "      <th>4</th>\n",
       "      <td>4</td>\n",
       "      <td>15766172</td>\n",
       "      <td>Chiemenam</td>\n",
       "      <td>716</td>\n",
       "      <td>Spain</td>\n",
       "      <td>Male</td>\n",
       "      <td>33.0</td>\n",
       "      <td>5</td>\n",
       "      <td>0.00</td>\n",
       "      <td>2</td>\n",
       "      <td>1.0</td>\n",
       "      <td>1.0</td>\n",
       "      <td>15068.83</td>\n",
       "      <td>0</td>\n",
       "    </tr>\n",
       "  </tbody>\n",
       "</table>\n",
       "</div>"
      ],
      "text/plain": [
       "   id  CustomerId         Surname  CreditScore Geography Gender   Age  Tenure  \\\n",
       "0   0    15674932  Okwudilichukwu          668    France   Male  33.0       3   \n",
       "1   1    15749177   Okwudiliolisa          627    France   Male  33.0       1   \n",
       "2   2    15694510           Hsueh          678    France   Male  40.0      10   \n",
       "3   3    15741417             Kao          581    France   Male  34.0       2   \n",
       "4   4    15766172       Chiemenam          716     Spain   Male  33.0       5   \n",
       "\n",
       "     Balance  NumOfProducts  HasCrCard  IsActiveMember  EstimatedSalary  \\\n",
       "0       0.00              2        1.0             0.0        181449.97   \n",
       "1       0.00              2        1.0             1.0         49503.50   \n",
       "2       0.00              2        1.0             0.0        184866.69   \n",
       "3  148882.54              1        1.0             1.0         84560.88   \n",
       "4       0.00              2        1.0             1.0         15068.83   \n",
       "\n",
       "   Exited  \n",
       "0       0  \n",
       "1       0  \n",
       "2       0  \n",
       "3       0  \n",
       "4       0  "
      ]
     },
     "execution_count": 15,
     "metadata": {},
     "output_type": "execute_result"
    }
   ],
   "source": [
    "print(df3.shape)\n",
    "df3.head()"
   ]
  },
  {
   "cell_type": "code",
   "execution_count": 16,
   "id": "0995253e",
   "metadata": {
    "execution": {
     "iopub.execute_input": "2024-01-31T21:54:13.361605Z",
     "iopub.status.busy": "2024-01-31T21:54:13.360993Z",
     "iopub.status.idle": "2024-01-31T21:54:13.455243Z",
     "shell.execute_reply": "2024-01-31T21:54:13.454292Z"
    },
    "papermill": {
     "duration": 0.111509,
     "end_time": "2024-01-31T21:54:13.457369",
     "exception": false,
     "start_time": "2024-01-31T21:54:13.345860",
     "status": "completed"
    },
    "tags": []
   },
   "outputs": [
    {
     "data": {
      "text/plain": [
       "0"
      ]
     },
     "execution_count": 16,
     "metadata": {},
     "output_type": "execute_result"
    }
   ],
   "source": [
    "df3.duplicated().sum()"
   ]
  },
  {
   "cell_type": "code",
   "execution_count": 17,
   "id": "23b3bda7",
   "metadata": {
    "execution": {
     "iopub.execute_input": "2024-01-31T21:54:13.488444Z",
     "iopub.status.busy": "2024-01-31T21:54:13.487572Z",
     "iopub.status.idle": "2024-01-31T21:54:13.545607Z",
     "shell.execute_reply": "2024-01-31T21:54:13.544506Z"
    },
    "papermill": {
     "duration": 0.075395,
     "end_time": "2024-01-31T21:54:13.547601",
     "exception": false,
     "start_time": "2024-01-31T21:54:13.472206",
     "status": "completed"
    },
    "tags": []
   },
   "outputs": [
    {
     "name": "stdout",
     "output_type": "stream",
     "text": [
      "<class 'pandas.core.frame.DataFrame'>\n",
      "RangeIndex: 165034 entries, 0 to 165033\n",
      "Data columns (total 14 columns):\n",
      " #   Column           Non-Null Count   Dtype  \n",
      "---  ------           --------------   -----  \n",
      " 0   id               165034 non-null  int64  \n",
      " 1   CustomerId       165034 non-null  int64  \n",
      " 2   Surname          165034 non-null  object \n",
      " 3   CreditScore      165034 non-null  int64  \n",
      " 4   Geography        165034 non-null  object \n",
      " 5   Gender           165034 non-null  object \n",
      " 6   Age              165034 non-null  float64\n",
      " 7   Tenure           165034 non-null  int64  \n",
      " 8   Balance          165034 non-null  float64\n",
      " 9   NumOfProducts    165034 non-null  int64  \n",
      " 10  HasCrCard        165034 non-null  float64\n",
      " 11  IsActiveMember   165034 non-null  float64\n",
      " 12  EstimatedSalary  165034 non-null  float64\n",
      " 13  Exited           165034 non-null  int64  \n",
      "dtypes: float64(5), int64(6), object(3)\n",
      "memory usage: 17.6+ MB\n"
     ]
    }
   ],
   "source": [
    "df3.info()"
   ]
  },
  {
   "cell_type": "code",
   "execution_count": 18,
   "id": "ec563dce",
   "metadata": {
    "execution": {
     "iopub.execute_input": "2024-01-31T21:54:13.576920Z",
     "iopub.status.busy": "2024-01-31T21:54:13.576606Z",
     "iopub.status.idle": "2024-01-31T21:54:13.583813Z",
     "shell.execute_reply": "2024-01-31T21:54:13.583102Z"
    },
    "papermill": {
     "duration": 0.024015,
     "end_time": "2024-01-31T21:54:13.585777",
     "exception": false,
     "start_time": "2024-01-31T21:54:13.561762",
     "status": "completed"
    },
    "tags": []
   },
   "outputs": [],
   "source": [
    "df3['Age'] = df3['Age'].astype('int64')\n",
    "df3['HasCrCard'] = df3['HasCrCard'].astype('int64')\n",
    "df3['IsActiveMember'] = df3['IsActiveMember'].astype('int64')"
   ]
  },
  {
   "cell_type": "code",
   "execution_count": 19,
   "id": "1db92e5e",
   "metadata": {
    "execution": {
     "iopub.execute_input": "2024-01-31T21:54:13.616349Z",
     "iopub.status.busy": "2024-01-31T21:54:13.615999Z",
     "iopub.status.idle": "2024-01-31T21:54:13.673997Z",
     "shell.execute_reply": "2024-01-31T21:54:13.672856Z"
    },
    "papermill": {
     "duration": 0.076221,
     "end_time": "2024-01-31T21:54:13.676443",
     "exception": false,
     "start_time": "2024-01-31T21:54:13.600222",
     "status": "completed"
    },
    "tags": []
   },
   "outputs": [
    {
     "name": "stdout",
     "output_type": "stream",
     "text": [
      "<class 'pandas.core.frame.DataFrame'>\n",
      "RangeIndex: 165034 entries, 0 to 165033\n",
      "Data columns (total 14 columns):\n",
      " #   Column           Non-Null Count   Dtype  \n",
      "---  ------           --------------   -----  \n",
      " 0   id               165034 non-null  int64  \n",
      " 1   CustomerId       165034 non-null  int64  \n",
      " 2   Surname          165034 non-null  object \n",
      " 3   CreditScore      165034 non-null  int64  \n",
      " 4   Geography        165034 non-null  object \n",
      " 5   Gender           165034 non-null  object \n",
      " 6   Age              165034 non-null  int64  \n",
      " 7   Tenure           165034 non-null  int64  \n",
      " 8   Balance          165034 non-null  float64\n",
      " 9   NumOfProducts    165034 non-null  int64  \n",
      " 10  HasCrCard        165034 non-null  int64  \n",
      " 11  IsActiveMember   165034 non-null  int64  \n",
      " 12  EstimatedSalary  165034 non-null  float64\n",
      " 13  Exited           165034 non-null  int64  \n",
      "dtypes: float64(2), int64(9), object(3)\n",
      "memory usage: 17.6+ MB\n"
     ]
    }
   ],
   "source": [
    "df3.info()"
   ]
  },
  {
   "cell_type": "code",
   "execution_count": 20,
   "id": "819650ab",
   "metadata": {
    "execution": {
     "iopub.execute_input": "2024-01-31T21:54:13.758989Z",
     "iopub.status.busy": "2024-01-31T21:54:13.758296Z",
     "iopub.status.idle": "2024-01-31T21:54:13.774335Z",
     "shell.execute_reply": "2024-01-31T21:54:13.773396Z"
    },
    "papermill": {
     "duration": 0.033286,
     "end_time": "2024-01-31T21:54:13.776272",
     "exception": false,
     "start_time": "2024-01-31T21:54:13.742986",
     "status": "completed"
    },
    "tags": []
   },
   "outputs": [
    {
     "data": {
      "text/html": [
       "<div>\n",
       "<style scoped>\n",
       "    .dataframe tbody tr th:only-of-type {\n",
       "        vertical-align: middle;\n",
       "    }\n",
       "\n",
       "    .dataframe tbody tr th {\n",
       "        vertical-align: top;\n",
       "    }\n",
       "\n",
       "    .dataframe thead th {\n",
       "        text-align: right;\n",
       "    }\n",
       "</style>\n",
       "<table border=\"1\" class=\"dataframe\">\n",
       "  <thead>\n",
       "    <tr style=\"text-align: right;\">\n",
       "      <th></th>\n",
       "      <th>id</th>\n",
       "      <th>CustomerId</th>\n",
       "      <th>Surname</th>\n",
       "      <th>CreditScore</th>\n",
       "      <th>Geography</th>\n",
       "      <th>Gender</th>\n",
       "      <th>Age</th>\n",
       "      <th>Tenure</th>\n",
       "      <th>Balance</th>\n",
       "      <th>NumOfProducts</th>\n",
       "      <th>HasCrCard</th>\n",
       "      <th>IsActiveMember</th>\n",
       "      <th>EstimatedSalary</th>\n",
       "      <th>Exited</th>\n",
       "    </tr>\n",
       "  </thead>\n",
       "  <tbody>\n",
       "    <tr>\n",
       "      <th>0</th>\n",
       "      <td>0</td>\n",
       "      <td>15674932</td>\n",
       "      <td>Okwudilichukwu</td>\n",
       "      <td>668</td>\n",
       "      <td>France</td>\n",
       "      <td>Male</td>\n",
       "      <td>33</td>\n",
       "      <td>3</td>\n",
       "      <td>0.00</td>\n",
       "      <td>2</td>\n",
       "      <td>1</td>\n",
       "      <td>0</td>\n",
       "      <td>181449.97</td>\n",
       "      <td>0</td>\n",
       "    </tr>\n",
       "    <tr>\n",
       "      <th>1</th>\n",
       "      <td>1</td>\n",
       "      <td>15749177</td>\n",
       "      <td>Okwudiliolisa</td>\n",
       "      <td>627</td>\n",
       "      <td>France</td>\n",
       "      <td>Male</td>\n",
       "      <td>33</td>\n",
       "      <td>1</td>\n",
       "      <td>0.00</td>\n",
       "      <td>2</td>\n",
       "      <td>1</td>\n",
       "      <td>1</td>\n",
       "      <td>49503.50</td>\n",
       "      <td>0</td>\n",
       "    </tr>\n",
       "    <tr>\n",
       "      <th>2</th>\n",
       "      <td>2</td>\n",
       "      <td>15694510</td>\n",
       "      <td>Hsueh</td>\n",
       "      <td>678</td>\n",
       "      <td>France</td>\n",
       "      <td>Male</td>\n",
       "      <td>40</td>\n",
       "      <td>10</td>\n",
       "      <td>0.00</td>\n",
       "      <td>2</td>\n",
       "      <td>1</td>\n",
       "      <td>0</td>\n",
       "      <td>184866.69</td>\n",
       "      <td>0</td>\n",
       "    </tr>\n",
       "    <tr>\n",
       "      <th>3</th>\n",
       "      <td>3</td>\n",
       "      <td>15741417</td>\n",
       "      <td>Kao</td>\n",
       "      <td>581</td>\n",
       "      <td>France</td>\n",
       "      <td>Male</td>\n",
       "      <td>34</td>\n",
       "      <td>2</td>\n",
       "      <td>148882.54</td>\n",
       "      <td>1</td>\n",
       "      <td>1</td>\n",
       "      <td>1</td>\n",
       "      <td>84560.88</td>\n",
       "      <td>0</td>\n",
       "    </tr>\n",
       "    <tr>\n",
       "      <th>4</th>\n",
       "      <td>4</td>\n",
       "      <td>15766172</td>\n",
       "      <td>Chiemenam</td>\n",
       "      <td>716</td>\n",
       "      <td>Spain</td>\n",
       "      <td>Male</td>\n",
       "      <td>33</td>\n",
       "      <td>5</td>\n",
       "      <td>0.00</td>\n",
       "      <td>2</td>\n",
       "      <td>1</td>\n",
       "      <td>1</td>\n",
       "      <td>15068.83</td>\n",
       "      <td>0</td>\n",
       "    </tr>\n",
       "  </tbody>\n",
       "</table>\n",
       "</div>"
      ],
      "text/plain": [
       "   id  CustomerId         Surname  CreditScore Geography Gender  Age  Tenure  \\\n",
       "0   0    15674932  Okwudilichukwu          668    France   Male   33       3   \n",
       "1   1    15749177   Okwudiliolisa          627    France   Male   33       1   \n",
       "2   2    15694510           Hsueh          678    France   Male   40      10   \n",
       "3   3    15741417             Kao          581    France   Male   34       2   \n",
       "4   4    15766172       Chiemenam          716     Spain   Male   33       5   \n",
       "\n",
       "     Balance  NumOfProducts  HasCrCard  IsActiveMember  EstimatedSalary  \\\n",
       "0       0.00              2          1               0        181449.97   \n",
       "1       0.00              2          1               1         49503.50   \n",
       "2       0.00              2          1               0        184866.69   \n",
       "3  148882.54              1          1               1         84560.88   \n",
       "4       0.00              2          1               1         15068.83   \n",
       "\n",
       "   Exited  \n",
       "0       0  \n",
       "1       0  \n",
       "2       0  \n",
       "3       0  \n",
       "4       0  "
      ]
     },
     "execution_count": 20,
     "metadata": {},
     "output_type": "execute_result"
    }
   ],
   "source": [
    "df3.head()"
   ]
  },
  {
   "cell_type": "code",
   "execution_count": 21,
   "id": "c4000021",
   "metadata": {
    "execution": {
     "iopub.execute_input": "2024-01-31T21:54:13.806565Z",
     "iopub.status.busy": "2024-01-31T21:54:13.805995Z",
     "iopub.status.idle": "2024-01-31T21:54:13.817888Z",
     "shell.execute_reply": "2024-01-31T21:54:13.816955Z"
    },
    "papermill": {
     "duration": 0.029315,
     "end_time": "2024-01-31T21:54:13.819931",
     "exception": false,
     "start_time": "2024-01-31T21:54:13.790616",
     "status": "completed"
    },
    "tags": []
   },
   "outputs": [],
   "source": [
    "df3.drop(columns=['id' , 'CustomerId', 'Surname' ], inplace= True)"
   ]
  },
  {
   "cell_type": "code",
   "execution_count": 22,
   "id": "9aa23d82",
   "metadata": {
    "execution": {
     "iopub.execute_input": "2024-01-31T21:54:13.853150Z",
     "iopub.status.busy": "2024-01-31T21:54:13.852386Z",
     "iopub.status.idle": "2024-01-31T21:54:13.868304Z",
     "shell.execute_reply": "2024-01-31T21:54:13.867197Z"
    },
    "papermill": {
     "duration": 0.034542,
     "end_time": "2024-01-31T21:54:13.870568",
     "exception": false,
     "start_time": "2024-01-31T21:54:13.836026",
     "status": "completed"
    },
    "tags": []
   },
   "outputs": [
    {
     "data": {
      "text/html": [
       "<div>\n",
       "<style scoped>\n",
       "    .dataframe tbody tr th:only-of-type {\n",
       "        vertical-align: middle;\n",
       "    }\n",
       "\n",
       "    .dataframe tbody tr th {\n",
       "        vertical-align: top;\n",
       "    }\n",
       "\n",
       "    .dataframe thead th {\n",
       "        text-align: right;\n",
       "    }\n",
       "</style>\n",
       "<table border=\"1\" class=\"dataframe\">\n",
       "  <thead>\n",
       "    <tr style=\"text-align: right;\">\n",
       "      <th></th>\n",
       "      <th>CreditScore</th>\n",
       "      <th>Geography</th>\n",
       "      <th>Gender</th>\n",
       "      <th>Age</th>\n",
       "      <th>Tenure</th>\n",
       "      <th>Balance</th>\n",
       "      <th>NumOfProducts</th>\n",
       "      <th>HasCrCard</th>\n",
       "      <th>IsActiveMember</th>\n",
       "      <th>EstimatedSalary</th>\n",
       "      <th>Exited</th>\n",
       "    </tr>\n",
       "  </thead>\n",
       "  <tbody>\n",
       "    <tr>\n",
       "      <th>0</th>\n",
       "      <td>668</td>\n",
       "      <td>France</td>\n",
       "      <td>Male</td>\n",
       "      <td>33</td>\n",
       "      <td>3</td>\n",
       "      <td>0.00</td>\n",
       "      <td>2</td>\n",
       "      <td>1</td>\n",
       "      <td>0</td>\n",
       "      <td>181449.97</td>\n",
       "      <td>0</td>\n",
       "    </tr>\n",
       "    <tr>\n",
       "      <th>1</th>\n",
       "      <td>627</td>\n",
       "      <td>France</td>\n",
       "      <td>Male</td>\n",
       "      <td>33</td>\n",
       "      <td>1</td>\n",
       "      <td>0.00</td>\n",
       "      <td>2</td>\n",
       "      <td>1</td>\n",
       "      <td>1</td>\n",
       "      <td>49503.50</td>\n",
       "      <td>0</td>\n",
       "    </tr>\n",
       "    <tr>\n",
       "      <th>2</th>\n",
       "      <td>678</td>\n",
       "      <td>France</td>\n",
       "      <td>Male</td>\n",
       "      <td>40</td>\n",
       "      <td>10</td>\n",
       "      <td>0.00</td>\n",
       "      <td>2</td>\n",
       "      <td>1</td>\n",
       "      <td>0</td>\n",
       "      <td>184866.69</td>\n",
       "      <td>0</td>\n",
       "    </tr>\n",
       "    <tr>\n",
       "      <th>3</th>\n",
       "      <td>581</td>\n",
       "      <td>France</td>\n",
       "      <td>Male</td>\n",
       "      <td>34</td>\n",
       "      <td>2</td>\n",
       "      <td>148882.54</td>\n",
       "      <td>1</td>\n",
       "      <td>1</td>\n",
       "      <td>1</td>\n",
       "      <td>84560.88</td>\n",
       "      <td>0</td>\n",
       "    </tr>\n",
       "    <tr>\n",
       "      <th>4</th>\n",
       "      <td>716</td>\n",
       "      <td>Spain</td>\n",
       "      <td>Male</td>\n",
       "      <td>33</td>\n",
       "      <td>5</td>\n",
       "      <td>0.00</td>\n",
       "      <td>2</td>\n",
       "      <td>1</td>\n",
       "      <td>1</td>\n",
       "      <td>15068.83</td>\n",
       "      <td>0</td>\n",
       "    </tr>\n",
       "  </tbody>\n",
       "</table>\n",
       "</div>"
      ],
      "text/plain": [
       "   CreditScore Geography Gender  Age  Tenure    Balance  NumOfProducts  \\\n",
       "0          668    France   Male   33       3       0.00              2   \n",
       "1          627    France   Male   33       1       0.00              2   \n",
       "2          678    France   Male   40      10       0.00              2   \n",
       "3          581    France   Male   34       2  148882.54              1   \n",
       "4          716     Spain   Male   33       5       0.00              2   \n",
       "\n",
       "   HasCrCard  IsActiveMember  EstimatedSalary  Exited  \n",
       "0          1               0        181449.97       0  \n",
       "1          1               1         49503.50       0  \n",
       "2          1               0        184866.69       0  \n",
       "3          1               1         84560.88       0  \n",
       "4          1               1         15068.83       0  "
      ]
     },
     "execution_count": 22,
     "metadata": {},
     "output_type": "execute_result"
    }
   ],
   "source": [
    "df3.head()"
   ]
  },
  {
   "cell_type": "code",
   "execution_count": 23,
   "id": "00630692",
   "metadata": {
    "execution": {
     "iopub.execute_input": "2024-01-31T21:54:13.905383Z",
     "iopub.status.busy": "2024-01-31T21:54:13.904617Z",
     "iopub.status.idle": "2024-01-31T21:54:13.936964Z",
     "shell.execute_reply": "2024-01-31T21:54:13.935877Z"
    },
    "papermill": {
     "duration": 0.052524,
     "end_time": "2024-01-31T21:54:13.939424",
     "exception": false,
     "start_time": "2024-01-31T21:54:13.886900",
     "status": "completed"
    },
    "tags": []
   },
   "outputs": [
    {
     "data": {
      "text/plain": [
       "Geography\n",
       "France     94215\n",
       "Spain      36213\n",
       "Germany    34606\n",
       "Name: count, dtype: int64"
      ]
     },
     "execution_count": 23,
     "metadata": {},
     "output_type": "execute_result"
    }
   ],
   "source": [
    "df3['Geography'].value_counts()"
   ]
  },
  {
   "cell_type": "code",
   "execution_count": 24,
   "id": "ab61d60a",
   "metadata": {
    "execution": {
     "iopub.execute_input": "2024-01-31T21:54:13.977317Z",
     "iopub.status.busy": "2024-01-31T21:54:13.976460Z",
     "iopub.status.idle": "2024-01-31T21:54:14.054791Z",
     "shell.execute_reply": "2024-01-31T21:54:14.053878Z"
    },
    "papermill": {
     "duration": 0.100068,
     "end_time": "2024-01-31T21:54:14.057447",
     "exception": false,
     "start_time": "2024-01-31T21:54:13.957379",
     "status": "completed"
    },
    "tags": []
   },
   "outputs": [],
   "source": [
    " df3 = pd.get_dummies(df3, columns=['Geography', 'Gender'] , drop_first = True )"
   ]
  },
  {
   "cell_type": "code",
   "execution_count": 25,
   "id": "0d1a68b6",
   "metadata": {
    "execution": {
     "iopub.execute_input": "2024-01-31T21:54:14.093151Z",
     "iopub.status.busy": "2024-01-31T21:54:14.092473Z",
     "iopub.status.idle": "2024-01-31T21:54:14.112030Z",
     "shell.execute_reply": "2024-01-31T21:54:14.110969Z"
    },
    "papermill": {
     "duration": 0.039608,
     "end_time": "2024-01-31T21:54:14.114140",
     "exception": false,
     "start_time": "2024-01-31T21:54:14.074532",
     "status": "completed"
    },
    "tags": []
   },
   "outputs": [
    {
     "data": {
      "text/html": [
       "<div>\n",
       "<style scoped>\n",
       "    .dataframe tbody tr th:only-of-type {\n",
       "        vertical-align: middle;\n",
       "    }\n",
       "\n",
       "    .dataframe tbody tr th {\n",
       "        vertical-align: top;\n",
       "    }\n",
       "\n",
       "    .dataframe thead th {\n",
       "        text-align: right;\n",
       "    }\n",
       "</style>\n",
       "<table border=\"1\" class=\"dataframe\">\n",
       "  <thead>\n",
       "    <tr style=\"text-align: right;\">\n",
       "      <th></th>\n",
       "      <th>CreditScore</th>\n",
       "      <th>Age</th>\n",
       "      <th>Tenure</th>\n",
       "      <th>Balance</th>\n",
       "      <th>NumOfProducts</th>\n",
       "      <th>HasCrCard</th>\n",
       "      <th>IsActiveMember</th>\n",
       "      <th>EstimatedSalary</th>\n",
       "      <th>Exited</th>\n",
       "      <th>Geography_Germany</th>\n",
       "      <th>Geography_Spain</th>\n",
       "      <th>Gender_Male</th>\n",
       "    </tr>\n",
       "  </thead>\n",
       "  <tbody>\n",
       "    <tr>\n",
       "      <th>0</th>\n",
       "      <td>668</td>\n",
       "      <td>33</td>\n",
       "      <td>3</td>\n",
       "      <td>0.00</td>\n",
       "      <td>2</td>\n",
       "      <td>1</td>\n",
       "      <td>0</td>\n",
       "      <td>181449.97</td>\n",
       "      <td>0</td>\n",
       "      <td>False</td>\n",
       "      <td>False</td>\n",
       "      <td>True</td>\n",
       "    </tr>\n",
       "    <tr>\n",
       "      <th>1</th>\n",
       "      <td>627</td>\n",
       "      <td>33</td>\n",
       "      <td>1</td>\n",
       "      <td>0.00</td>\n",
       "      <td>2</td>\n",
       "      <td>1</td>\n",
       "      <td>1</td>\n",
       "      <td>49503.50</td>\n",
       "      <td>0</td>\n",
       "      <td>False</td>\n",
       "      <td>False</td>\n",
       "      <td>True</td>\n",
       "    </tr>\n",
       "    <tr>\n",
       "      <th>2</th>\n",
       "      <td>678</td>\n",
       "      <td>40</td>\n",
       "      <td>10</td>\n",
       "      <td>0.00</td>\n",
       "      <td>2</td>\n",
       "      <td>1</td>\n",
       "      <td>0</td>\n",
       "      <td>184866.69</td>\n",
       "      <td>0</td>\n",
       "      <td>False</td>\n",
       "      <td>False</td>\n",
       "      <td>True</td>\n",
       "    </tr>\n",
       "    <tr>\n",
       "      <th>3</th>\n",
       "      <td>581</td>\n",
       "      <td>34</td>\n",
       "      <td>2</td>\n",
       "      <td>148882.54</td>\n",
       "      <td>1</td>\n",
       "      <td>1</td>\n",
       "      <td>1</td>\n",
       "      <td>84560.88</td>\n",
       "      <td>0</td>\n",
       "      <td>False</td>\n",
       "      <td>False</td>\n",
       "      <td>True</td>\n",
       "    </tr>\n",
       "    <tr>\n",
       "      <th>4</th>\n",
       "      <td>716</td>\n",
       "      <td>33</td>\n",
       "      <td>5</td>\n",
       "      <td>0.00</td>\n",
       "      <td>2</td>\n",
       "      <td>1</td>\n",
       "      <td>1</td>\n",
       "      <td>15068.83</td>\n",
       "      <td>0</td>\n",
       "      <td>False</td>\n",
       "      <td>True</td>\n",
       "      <td>True</td>\n",
       "    </tr>\n",
       "    <tr>\n",
       "      <th>...</th>\n",
       "      <td>...</td>\n",
       "      <td>...</td>\n",
       "      <td>...</td>\n",
       "      <td>...</td>\n",
       "      <td>...</td>\n",
       "      <td>...</td>\n",
       "      <td>...</td>\n",
       "      <td>...</td>\n",
       "      <td>...</td>\n",
       "      <td>...</td>\n",
       "      <td>...</td>\n",
       "      <td>...</td>\n",
       "    </tr>\n",
       "    <tr>\n",
       "      <th>165029</th>\n",
       "      <td>667</td>\n",
       "      <td>33</td>\n",
       "      <td>2</td>\n",
       "      <td>0.00</td>\n",
       "      <td>1</td>\n",
       "      <td>1</td>\n",
       "      <td>1</td>\n",
       "      <td>131834.75</td>\n",
       "      <td>0</td>\n",
       "      <td>False</td>\n",
       "      <td>True</td>\n",
       "      <td>False</td>\n",
       "    </tr>\n",
       "    <tr>\n",
       "      <th>165030</th>\n",
       "      <td>792</td>\n",
       "      <td>35</td>\n",
       "      <td>3</td>\n",
       "      <td>0.00</td>\n",
       "      <td>1</td>\n",
       "      <td>0</td>\n",
       "      <td>0</td>\n",
       "      <td>131834.45</td>\n",
       "      <td>0</td>\n",
       "      <td>False</td>\n",
       "      <td>False</td>\n",
       "      <td>True</td>\n",
       "    </tr>\n",
       "    <tr>\n",
       "      <th>165031</th>\n",
       "      <td>565</td>\n",
       "      <td>31</td>\n",
       "      <td>5</td>\n",
       "      <td>0.00</td>\n",
       "      <td>1</td>\n",
       "      <td>1</td>\n",
       "      <td>1</td>\n",
       "      <td>127429.56</td>\n",
       "      <td>0</td>\n",
       "      <td>False</td>\n",
       "      <td>False</td>\n",
       "      <td>True</td>\n",
       "    </tr>\n",
       "    <tr>\n",
       "      <th>165032</th>\n",
       "      <td>554</td>\n",
       "      <td>30</td>\n",
       "      <td>7</td>\n",
       "      <td>161533.00</td>\n",
       "      <td>1</td>\n",
       "      <td>0</td>\n",
       "      <td>1</td>\n",
       "      <td>71173.03</td>\n",
       "      <td>0</td>\n",
       "      <td>False</td>\n",
       "      <td>True</td>\n",
       "      <td>False</td>\n",
       "    </tr>\n",
       "    <tr>\n",
       "      <th>165033</th>\n",
       "      <td>850</td>\n",
       "      <td>31</td>\n",
       "      <td>1</td>\n",
       "      <td>0.00</td>\n",
       "      <td>1</td>\n",
       "      <td>1</td>\n",
       "      <td>0</td>\n",
       "      <td>61581.79</td>\n",
       "      <td>1</td>\n",
       "      <td>False</td>\n",
       "      <td>False</td>\n",
       "      <td>True</td>\n",
       "    </tr>\n",
       "  </tbody>\n",
       "</table>\n",
       "<p>165034 rows × 12 columns</p>\n",
       "</div>"
      ],
      "text/plain": [
       "        CreditScore  Age  Tenure    Balance  NumOfProducts  HasCrCard  \\\n",
       "0               668   33       3       0.00              2          1   \n",
       "1               627   33       1       0.00              2          1   \n",
       "2               678   40      10       0.00              2          1   \n",
       "3               581   34       2  148882.54              1          1   \n",
       "4               716   33       5       0.00              2          1   \n",
       "...             ...  ...     ...        ...            ...        ...   \n",
       "165029          667   33       2       0.00              1          1   \n",
       "165030          792   35       3       0.00              1          0   \n",
       "165031          565   31       5       0.00              1          1   \n",
       "165032          554   30       7  161533.00              1          0   \n",
       "165033          850   31       1       0.00              1          1   \n",
       "\n",
       "        IsActiveMember  EstimatedSalary  Exited  Geography_Germany  \\\n",
       "0                    0        181449.97       0              False   \n",
       "1                    1         49503.50       0              False   \n",
       "2                    0        184866.69       0              False   \n",
       "3                    1         84560.88       0              False   \n",
       "4                    1         15068.83       0              False   \n",
       "...                ...              ...     ...                ...   \n",
       "165029               1        131834.75       0              False   \n",
       "165030               0        131834.45       0              False   \n",
       "165031               1        127429.56       0              False   \n",
       "165032               1         71173.03       0              False   \n",
       "165033               0         61581.79       1              False   \n",
       "\n",
       "        Geography_Spain  Gender_Male  \n",
       "0                 False         True  \n",
       "1                 False         True  \n",
       "2                 False         True  \n",
       "3                 False         True  \n",
       "4                  True         True  \n",
       "...                 ...          ...  \n",
       "165029             True        False  \n",
       "165030            False         True  \n",
       "165031            False         True  \n",
       "165032             True        False  \n",
       "165033            False         True  \n",
       "\n",
       "[165034 rows x 12 columns]"
      ]
     },
     "execution_count": 25,
     "metadata": {},
     "output_type": "execute_result"
    }
   ],
   "source": [
    "df3"
   ]
  },
  {
   "cell_type": "code",
   "execution_count": 26,
   "id": "2715305c",
   "metadata": {
    "execution": {
     "iopub.execute_input": "2024-01-31T21:54:14.147785Z",
     "iopub.status.busy": "2024-01-31T21:54:14.147442Z",
     "iopub.status.idle": "2024-01-31T21:54:14.155841Z",
     "shell.execute_reply": "2024-01-31T21:54:14.154878Z"
    },
    "papermill": {
     "duration": 0.027627,
     "end_time": "2024-01-31T21:54:14.158024",
     "exception": false,
     "start_time": "2024-01-31T21:54:14.130397",
     "status": "completed"
    },
    "tags": []
   },
   "outputs": [],
   "source": [
    "df3 = df3.astype('int64')"
   ]
  },
  {
   "cell_type": "code",
   "execution_count": 27,
   "id": "22f72e5e",
   "metadata": {
    "execution": {
     "iopub.execute_input": "2024-01-31T21:54:14.191870Z",
     "iopub.status.busy": "2024-01-31T21:54:14.191244Z",
     "iopub.status.idle": "2024-01-31T21:54:14.206647Z",
     "shell.execute_reply": "2024-01-31T21:54:14.205634Z"
    },
    "papermill": {
     "duration": 0.034497,
     "end_time": "2024-01-31T21:54:14.208664",
     "exception": false,
     "start_time": "2024-01-31T21:54:14.174167",
     "status": "completed"
    },
    "tags": []
   },
   "outputs": [
    {
     "data": {
      "text/html": [
       "<div>\n",
       "<style scoped>\n",
       "    .dataframe tbody tr th:only-of-type {\n",
       "        vertical-align: middle;\n",
       "    }\n",
       "\n",
       "    .dataframe tbody tr th {\n",
       "        vertical-align: top;\n",
       "    }\n",
       "\n",
       "    .dataframe thead th {\n",
       "        text-align: right;\n",
       "    }\n",
       "</style>\n",
       "<table border=\"1\" class=\"dataframe\">\n",
       "  <thead>\n",
       "    <tr style=\"text-align: right;\">\n",
       "      <th></th>\n",
       "      <th>CreditScore</th>\n",
       "      <th>Age</th>\n",
       "      <th>Tenure</th>\n",
       "      <th>Balance</th>\n",
       "      <th>NumOfProducts</th>\n",
       "      <th>HasCrCard</th>\n",
       "      <th>IsActiveMember</th>\n",
       "      <th>EstimatedSalary</th>\n",
       "      <th>Exited</th>\n",
       "      <th>Geography_Germany</th>\n",
       "      <th>Geography_Spain</th>\n",
       "      <th>Gender_Male</th>\n",
       "    </tr>\n",
       "  </thead>\n",
       "  <tbody>\n",
       "    <tr>\n",
       "      <th>0</th>\n",
       "      <td>668</td>\n",
       "      <td>33</td>\n",
       "      <td>3</td>\n",
       "      <td>0</td>\n",
       "      <td>2</td>\n",
       "      <td>1</td>\n",
       "      <td>0</td>\n",
       "      <td>181449</td>\n",
       "      <td>0</td>\n",
       "      <td>0</td>\n",
       "      <td>0</td>\n",
       "      <td>1</td>\n",
       "    </tr>\n",
       "    <tr>\n",
       "      <th>1</th>\n",
       "      <td>627</td>\n",
       "      <td>33</td>\n",
       "      <td>1</td>\n",
       "      <td>0</td>\n",
       "      <td>2</td>\n",
       "      <td>1</td>\n",
       "      <td>1</td>\n",
       "      <td>49503</td>\n",
       "      <td>0</td>\n",
       "      <td>0</td>\n",
       "      <td>0</td>\n",
       "      <td>1</td>\n",
       "    </tr>\n",
       "    <tr>\n",
       "      <th>2</th>\n",
       "      <td>678</td>\n",
       "      <td>40</td>\n",
       "      <td>10</td>\n",
       "      <td>0</td>\n",
       "      <td>2</td>\n",
       "      <td>1</td>\n",
       "      <td>0</td>\n",
       "      <td>184866</td>\n",
       "      <td>0</td>\n",
       "      <td>0</td>\n",
       "      <td>0</td>\n",
       "      <td>1</td>\n",
       "    </tr>\n",
       "    <tr>\n",
       "      <th>3</th>\n",
       "      <td>581</td>\n",
       "      <td>34</td>\n",
       "      <td>2</td>\n",
       "      <td>148882</td>\n",
       "      <td>1</td>\n",
       "      <td>1</td>\n",
       "      <td>1</td>\n",
       "      <td>84560</td>\n",
       "      <td>0</td>\n",
       "      <td>0</td>\n",
       "      <td>0</td>\n",
       "      <td>1</td>\n",
       "    </tr>\n",
       "    <tr>\n",
       "      <th>4</th>\n",
       "      <td>716</td>\n",
       "      <td>33</td>\n",
       "      <td>5</td>\n",
       "      <td>0</td>\n",
       "      <td>2</td>\n",
       "      <td>1</td>\n",
       "      <td>1</td>\n",
       "      <td>15068</td>\n",
       "      <td>0</td>\n",
       "      <td>0</td>\n",
       "      <td>1</td>\n",
       "      <td>1</td>\n",
       "    </tr>\n",
       "    <tr>\n",
       "      <th>...</th>\n",
       "      <td>...</td>\n",
       "      <td>...</td>\n",
       "      <td>...</td>\n",
       "      <td>...</td>\n",
       "      <td>...</td>\n",
       "      <td>...</td>\n",
       "      <td>...</td>\n",
       "      <td>...</td>\n",
       "      <td>...</td>\n",
       "      <td>...</td>\n",
       "      <td>...</td>\n",
       "      <td>...</td>\n",
       "    </tr>\n",
       "    <tr>\n",
       "      <th>165029</th>\n",
       "      <td>667</td>\n",
       "      <td>33</td>\n",
       "      <td>2</td>\n",
       "      <td>0</td>\n",
       "      <td>1</td>\n",
       "      <td>1</td>\n",
       "      <td>1</td>\n",
       "      <td>131834</td>\n",
       "      <td>0</td>\n",
       "      <td>0</td>\n",
       "      <td>1</td>\n",
       "      <td>0</td>\n",
       "    </tr>\n",
       "    <tr>\n",
       "      <th>165030</th>\n",
       "      <td>792</td>\n",
       "      <td>35</td>\n",
       "      <td>3</td>\n",
       "      <td>0</td>\n",
       "      <td>1</td>\n",
       "      <td>0</td>\n",
       "      <td>0</td>\n",
       "      <td>131834</td>\n",
       "      <td>0</td>\n",
       "      <td>0</td>\n",
       "      <td>0</td>\n",
       "      <td>1</td>\n",
       "    </tr>\n",
       "    <tr>\n",
       "      <th>165031</th>\n",
       "      <td>565</td>\n",
       "      <td>31</td>\n",
       "      <td>5</td>\n",
       "      <td>0</td>\n",
       "      <td>1</td>\n",
       "      <td>1</td>\n",
       "      <td>1</td>\n",
       "      <td>127429</td>\n",
       "      <td>0</td>\n",
       "      <td>0</td>\n",
       "      <td>0</td>\n",
       "      <td>1</td>\n",
       "    </tr>\n",
       "    <tr>\n",
       "      <th>165032</th>\n",
       "      <td>554</td>\n",
       "      <td>30</td>\n",
       "      <td>7</td>\n",
       "      <td>161533</td>\n",
       "      <td>1</td>\n",
       "      <td>0</td>\n",
       "      <td>1</td>\n",
       "      <td>71173</td>\n",
       "      <td>0</td>\n",
       "      <td>0</td>\n",
       "      <td>1</td>\n",
       "      <td>0</td>\n",
       "    </tr>\n",
       "    <tr>\n",
       "      <th>165033</th>\n",
       "      <td>850</td>\n",
       "      <td>31</td>\n",
       "      <td>1</td>\n",
       "      <td>0</td>\n",
       "      <td>1</td>\n",
       "      <td>1</td>\n",
       "      <td>0</td>\n",
       "      <td>61581</td>\n",
       "      <td>1</td>\n",
       "      <td>0</td>\n",
       "      <td>0</td>\n",
       "      <td>1</td>\n",
       "    </tr>\n",
       "  </tbody>\n",
       "</table>\n",
       "<p>165034 rows × 12 columns</p>\n",
       "</div>"
      ],
      "text/plain": [
       "        CreditScore  Age  Tenure  Balance  NumOfProducts  HasCrCard  \\\n",
       "0               668   33       3        0              2          1   \n",
       "1               627   33       1        0              2          1   \n",
       "2               678   40      10        0              2          1   \n",
       "3               581   34       2   148882              1          1   \n",
       "4               716   33       5        0              2          1   \n",
       "...             ...  ...     ...      ...            ...        ...   \n",
       "165029          667   33       2        0              1          1   \n",
       "165030          792   35       3        0              1          0   \n",
       "165031          565   31       5        0              1          1   \n",
       "165032          554   30       7   161533              1          0   \n",
       "165033          850   31       1        0              1          1   \n",
       "\n",
       "        IsActiveMember  EstimatedSalary  Exited  Geography_Germany  \\\n",
       "0                    0           181449       0                  0   \n",
       "1                    1            49503       0                  0   \n",
       "2                    0           184866       0                  0   \n",
       "3                    1            84560       0                  0   \n",
       "4                    1            15068       0                  0   \n",
       "...                ...              ...     ...                ...   \n",
       "165029               1           131834       0                  0   \n",
       "165030               0           131834       0                  0   \n",
       "165031               1           127429       0                  0   \n",
       "165032               1            71173       0                  0   \n",
       "165033               0            61581       1                  0   \n",
       "\n",
       "        Geography_Spain  Gender_Male  \n",
       "0                     0            1  \n",
       "1                     0            1  \n",
       "2                     0            1  \n",
       "3                     0            1  \n",
       "4                     1            1  \n",
       "...                 ...          ...  \n",
       "165029                1            0  \n",
       "165030                0            1  \n",
       "165031                0            1  \n",
       "165032                1            0  \n",
       "165033                0            1  \n",
       "\n",
       "[165034 rows x 12 columns]"
      ]
     },
     "execution_count": 27,
     "metadata": {},
     "output_type": "execute_result"
    }
   ],
   "source": [
    "df3"
   ]
  },
  {
   "cell_type": "code",
   "execution_count": 28,
   "id": "5532630b",
   "metadata": {
    "execution": {
     "iopub.execute_input": "2024-01-31T21:54:14.242696Z",
     "iopub.status.busy": "2024-01-31T21:54:14.242320Z",
     "iopub.status.idle": "2024-01-31T21:54:14.252882Z",
     "shell.execute_reply": "2024-01-31T21:54:14.251724Z"
    },
    "papermill": {
     "duration": 0.030553,
     "end_time": "2024-01-31T21:54:14.255270",
     "exception": false,
     "start_time": "2024-01-31T21:54:14.224717",
     "status": "completed"
    },
    "tags": []
   },
   "outputs": [
    {
     "name": "stdout",
     "output_type": "stream",
     "text": [
      "(165034, 11)\n",
      "(165034,)\n"
     ]
    }
   ],
   "source": [
    "\n",
    "X = df3.drop(columns=['Exited'], axis=1)\n",
    "Y = df3['Exited']\n",
    "print(X.shape)\n",
    "print(Y.shape)"
   ]
  },
  {
   "cell_type": "code",
   "execution_count": 29,
   "id": "13ec7720",
   "metadata": {
    "execution": {
     "iopub.execute_input": "2024-01-31T21:54:14.291962Z",
     "iopub.status.busy": "2024-01-31T21:54:14.291269Z",
     "iopub.status.idle": "2024-01-31T21:54:14.372336Z",
     "shell.execute_reply": "2024-01-31T21:54:14.371358Z"
    },
    "papermill": {
     "duration": 0.101615,
     "end_time": "2024-01-31T21:54:14.374505",
     "exception": false,
     "start_time": "2024-01-31T21:54:14.272890",
     "status": "completed"
    },
    "tags": []
   },
   "outputs": [],
   "source": [
    "from sklearn.model_selection import train_test_split"
   ]
  },
  {
   "cell_type": "code",
   "execution_count": 30,
   "id": "119449ab",
   "metadata": {
    "execution": {
     "iopub.execute_input": "2024-01-31T21:54:14.408941Z",
     "iopub.status.busy": "2024-01-31T21:54:14.408213Z",
     "iopub.status.idle": "2024-01-31T21:54:14.412378Z",
     "shell.execute_reply": "2024-01-31T21:54:14.411486Z"
    },
    "papermill": {
     "duration": 0.022851,
     "end_time": "2024-01-31T21:54:14.414384",
     "exception": false,
     "start_time": "2024-01-31T21:54:14.391533",
     "status": "completed"
    },
    "tags": []
   },
   "outputs": [],
   "source": [
    "# X_train,X_test,y_train,y_test=train_test_split(X,Y,test_size=0.2)"
   ]
  },
  {
   "cell_type": "markdown",
   "id": "c4dc263c",
   "metadata": {
    "papermill": {
     "duration": 0.017012,
     "end_time": "2024-01-31T21:54:14.447482",
     "exception": false,
     "start_time": "2024-01-31T21:54:14.430470",
     "status": "completed"
    },
    "tags": []
   },
   "source": [
    "# Now to Apply the algorithm"
   ]
  },
  {
   "cell_type": "code",
   "execution_count": 31,
   "id": "50c07115",
   "metadata": {
    "execution": {
     "iopub.execute_input": "2024-01-31T21:54:14.480612Z",
     "iopub.status.busy": "2024-01-31T21:54:14.480270Z",
     "iopub.status.idle": "2024-01-31T21:54:14.530923Z",
     "shell.execute_reply": "2024-01-31T21:54:14.529700Z"
    },
    "papermill": {
     "duration": 0.070144,
     "end_time": "2024-01-31T21:54:14.533361",
     "exception": false,
     "start_time": "2024-01-31T21:54:14.463217",
     "status": "completed"
    },
    "tags": []
   },
   "outputs": [],
   "source": [
    "Scaled_X_train = scaler.fit_transform(X)"
   ]
  },
  {
   "cell_type": "code",
   "execution_count": 32,
   "id": "fec8d788",
   "metadata": {
    "execution": {
     "iopub.execute_input": "2024-01-31T21:54:14.570504Z",
     "iopub.status.busy": "2024-01-31T21:54:14.570137Z",
     "iopub.status.idle": "2024-01-31T21:54:14.575107Z",
     "shell.execute_reply": "2024-01-31T21:54:14.574218Z"
    },
    "papermill": {
     "duration": 0.024445,
     "end_time": "2024-01-31T21:54:14.577335",
     "exception": false,
     "start_time": "2024-01-31T21:54:14.552890",
     "status": "completed"
    },
    "tags": []
   },
   "outputs": [
    {
     "name": "stdout",
     "output_type": "stream",
     "text": [
      "(165034, 11)\n"
     ]
    }
   ],
   "source": [
    "Scaled_X_train\n",
    "print(Scaled_X_train.shape)"
   ]
  },
  {
   "cell_type": "code",
   "execution_count": 33,
   "id": "14cb3462",
   "metadata": {
    "execution": {
     "iopub.execute_input": "2024-01-31T21:54:14.612011Z",
     "iopub.status.busy": "2024-01-31T21:54:14.610047Z",
     "iopub.status.idle": "2024-01-31T21:54:27.228919Z",
     "shell.execute_reply": "2024-01-31T21:54:27.227834Z"
    },
    "papermill": {
     "duration": 12.638416,
     "end_time": "2024-01-31T21:54:27.231510",
     "exception": false,
     "start_time": "2024-01-31T21:54:14.593094",
     "status": "completed"
    },
    "tags": []
   },
   "outputs": [
    {
     "name": "stderr",
     "output_type": "stream",
     "text": [
      "2024-01-31 21:54:16.541603: E external/local_xla/xla/stream_executor/cuda/cuda_dnn.cc:9261] Unable to register cuDNN factory: Attempting to register factory for plugin cuDNN when one has already been registered\n",
      "2024-01-31 21:54:16.541744: E external/local_xla/xla/stream_executor/cuda/cuda_fft.cc:607] Unable to register cuFFT factory: Attempting to register factory for plugin cuFFT when one has already been registered\n",
      "2024-01-31 21:54:16.670276: E external/local_xla/xla/stream_executor/cuda/cuda_blas.cc:1515] Unable to register cuBLAS factory: Attempting to register factory for plugin cuBLAS when one has already been registered\n"
     ]
    }
   ],
   "source": [
    "#!pip install tensorflow\n",
    "import tensorflow\n",
    "from tensorflow import keras\n",
    "from tensorflow.keras import Sequential\n",
    "from tensorflow.keras.layers import Dense"
   ]
  },
  {
   "cell_type": "code",
   "execution_count": 34,
   "id": "2379496a",
   "metadata": {
    "execution": {
     "iopub.execute_input": "2024-01-31T21:54:27.266113Z",
     "iopub.status.busy": "2024-01-31T21:54:27.265166Z",
     "iopub.status.idle": "2024-01-31T21:54:28.023951Z",
     "shell.execute_reply": "2024-01-31T21:54:28.022911Z"
    },
    "papermill": {
     "duration": 0.77843,
     "end_time": "2024-01-31T21:54:28.026312",
     "exception": false,
     "start_time": "2024-01-31T21:54:27.247882",
     "status": "completed"
    },
    "tags": []
   },
   "outputs": [],
   "source": [
    "model = Sequential()\n",
    "\n",
    "model.add(Dense(11 , activation='relu', input_dim=11))\n",
    "model.add(Dense(5 , activation='relu'))\n",
    "model.add(Dense(1, activation='sigmoid'))"
   ]
  },
  {
   "cell_type": "code",
   "execution_count": 35,
   "id": "fccaa070",
   "metadata": {
    "execution": {
     "iopub.execute_input": "2024-01-31T21:54:28.060486Z",
     "iopub.status.busy": "2024-01-31T21:54:28.059802Z",
     "iopub.status.idle": "2024-01-31T21:54:28.077178Z",
     "shell.execute_reply": "2024-01-31T21:54:28.076201Z"
    },
    "papermill": {
     "duration": 0.040854,
     "end_time": "2024-01-31T21:54:28.083463",
     "exception": false,
     "start_time": "2024-01-31T21:54:28.042609",
     "status": "completed"
    },
    "tags": []
   },
   "outputs": [
    {
     "name": "stdout",
     "output_type": "stream",
     "text": [
      "Model: \"sequential\"\n",
      "_________________________________________________________________\n",
      " Layer (type)                Output Shape              Param #   \n",
      "=================================================================\n",
      " dense (Dense)               (None, 11)                132       \n",
      "                                                                 \n",
      " dense_1 (Dense)             (None, 5)                 60        \n",
      "                                                                 \n",
      " dense_2 (Dense)             (None, 1)                 6         \n",
      "                                                                 \n",
      "=================================================================\n",
      "Total params: 198 (792.00 Byte)\n",
      "Trainable params: 198 (792.00 Byte)\n",
      "Non-trainable params: 0 (0.00 Byte)\n",
      "_________________________________________________________________\n"
     ]
    }
   ],
   "source": [
    "model.summary()"
   ]
  },
  {
   "cell_type": "code",
   "execution_count": 36,
   "id": "0ded2152",
   "metadata": {
    "execution": {
     "iopub.execute_input": "2024-01-31T21:54:28.119862Z",
     "iopub.status.busy": "2024-01-31T21:54:28.119461Z",
     "iopub.status.idle": "2024-01-31T21:54:28.137451Z",
     "shell.execute_reply": "2024-01-31T21:54:28.136721Z"
    },
    "papermill": {
     "duration": 0.038663,
     "end_time": "2024-01-31T21:54:28.139457",
     "exception": false,
     "start_time": "2024-01-31T21:54:28.100794",
     "status": "completed"
    },
    "tags": []
   },
   "outputs": [],
   "source": [
    "model.compile(loss='binary_crossentropy', optimizer='Adam', metrics='accuracy')"
   ]
  },
  {
   "cell_type": "code",
   "execution_count": 37,
   "id": "fba1d360",
   "metadata": {
    "execution": {
     "iopub.execute_input": "2024-01-31T21:54:28.174650Z",
     "iopub.status.busy": "2024-01-31T21:54:28.174343Z",
     "iopub.status.idle": "2024-01-31T21:56:47.511803Z",
     "shell.execute_reply": "2024-01-31T21:56:47.510736Z"
    },
    "papermill": {
     "duration": 139.357382,
     "end_time": "2024-01-31T21:56:47.514034",
     "exception": false,
     "start_time": "2024-01-31T21:54:28.156652",
     "status": "completed"
    },
    "tags": []
   },
   "outputs": [
    {
     "name": "stdout",
     "output_type": "stream",
     "text": [
      "Epoch 1/10\n"
     ]
    },
    {
     "name": "stderr",
     "output_type": "stream",
     "text": [
      "WARNING: All log messages before absl::InitializeLog() is called are written to STDERR\n",
      "I0000 00:00:1706738070.347736      69 device_compiler.h:186] Compiled cluster using XLA!  This line is logged at most once for the lifetime of the process.\n"
     ]
    },
    {
     "name": "stdout",
     "output_type": "stream",
     "text": [
      "4126/4126 [==============================] - 17s 3ms/step - loss: 0.3771 - accuracy: 0.8364 - val_loss: 0.3373 - val_accuracy: 0.8574\n",
      "Epoch 2/10\n",
      "4126/4126 [==============================] - 14s 3ms/step - loss: 0.3325 - accuracy: 0.8611 - val_loss: 0.3345 - val_accuracy: 0.8594\n",
      "Epoch 3/10\n",
      "4126/4126 [==============================] - 13s 3ms/step - loss: 0.3297 - accuracy: 0.8617 - val_loss: 0.3304 - val_accuracy: 0.8607\n",
      "Epoch 4/10\n",
      "4126/4126 [==============================] - 14s 3ms/step - loss: 0.3268 - accuracy: 0.8636 - val_loss: 0.3275 - val_accuracy: 0.8625\n",
      "Epoch 5/10\n",
      "4126/4126 [==============================] - 14s 3ms/step - loss: 0.3254 - accuracy: 0.8637 - val_loss: 0.3271 - val_accuracy: 0.8626\n",
      "Epoch 6/10\n",
      "4126/4126 [==============================] - 14s 3ms/step - loss: 0.3245 - accuracy: 0.8642 - val_loss: 0.3262 - val_accuracy: 0.8632\n",
      "Epoch 7/10\n",
      "4126/4126 [==============================] - 14s 3ms/step - loss: 0.3243 - accuracy: 0.8641 - val_loss: 0.3264 - val_accuracy: 0.8650\n",
      "Epoch 8/10\n",
      "4126/4126 [==============================] - 14s 3ms/step - loss: 0.3240 - accuracy: 0.8643 - val_loss: 0.3262 - val_accuracy: 0.8632\n",
      "Epoch 9/10\n",
      "4126/4126 [==============================] - 13s 3ms/step - loss: 0.3241 - accuracy: 0.8639 - val_loss: 0.3261 - val_accuracy: 0.8632\n",
      "Epoch 10/10\n",
      "4126/4126 [==============================] - 14s 3ms/step - loss: 0.3237 - accuracy: 0.8642 - val_loss: 0.3262 - val_accuracy: 0.8628\n"
     ]
    }
   ],
   "source": [
    "history = model.fit(Scaled_X_train, Y, epochs=10, validation_split=0.2)"
   ]
  },
  {
   "cell_type": "code",
   "execution_count": 38,
   "id": "a2db4f35",
   "metadata": {
    "execution": {
     "iopub.execute_input": "2024-01-31T21:56:47.924012Z",
     "iopub.status.busy": "2024-01-31T21:56:47.923077Z",
     "iopub.status.idle": "2024-01-31T21:56:47.932841Z",
     "shell.execute_reply": "2024-01-31T21:56:47.931938Z"
    },
    "papermill": {
     "duration": 0.217026,
     "end_time": "2024-01-31T21:56:47.934883",
     "exception": false,
     "start_time": "2024-01-31T21:56:47.717857",
     "status": "completed"
    },
    "tags": []
   },
   "outputs": [
    {
     "data": {
      "text/plain": [
       "[array([[ 0.5339664 ],\n",
       "        [ 0.6525772 ],\n",
       "        [ 1.217759  ],\n",
       "        [-1.3195996 ],\n",
       "        [ 0.43111715]], dtype=float32),\n",
       " array([-0.26731265], dtype=float32)]"
      ]
     },
     "execution_count": 38,
     "metadata": {},
     "output_type": "execute_result"
    }
   ],
   "source": [
    "model.layers[2].get_weights()"
   ]
  },
  {
   "cell_type": "code",
   "execution_count": 39,
   "id": "00da5a84",
   "metadata": {
    "execution": {
     "iopub.execute_input": "2024-01-31T21:56:48.347279Z",
     "iopub.status.busy": "2024-01-31T21:56:48.346403Z",
     "iopub.status.idle": "2024-01-31T21:56:55.272136Z",
     "shell.execute_reply": "2024-01-31T21:56:55.271249Z"
    },
    "papermill": {
     "duration": 7.132368,
     "end_time": "2024-01-31T21:56:55.274423",
     "exception": false,
     "start_time": "2024-01-31T21:56:48.142055",
     "status": "completed"
    },
    "tags": []
   },
   "outputs": [
    {
     "name": "stdout",
     "output_type": "stream",
     "text": [
      "3439/3439 [==============================] - 5s 1ms/step\n"
     ]
    }
   ],
   "source": [
    "prediction=model.predict(scaled_test)"
   ]
  },
  {
   "cell_type": "code",
   "execution_count": 40,
   "id": "ace838f4",
   "metadata": {
    "execution": {
     "iopub.execute_input": "2024-01-31T21:56:55.701657Z",
     "iopub.status.busy": "2024-01-31T21:56:55.700889Z",
     "iopub.status.idle": "2024-01-31T21:56:55.707832Z",
     "shell.execute_reply": "2024-01-31T21:56:55.706902Z"
    },
    "papermill": {
     "duration": 0.221106,
     "end_time": "2024-01-31T21:56:55.709743",
     "exception": false,
     "start_time": "2024-01-31T21:56:55.488637",
     "status": "completed"
    },
    "tags": []
   },
   "outputs": [
    {
     "data": {
      "text/plain": [
       "array([[0],\n",
       "       [1],\n",
       "       [0],\n",
       "       ...,\n",
       "       [0],\n",
       "       [0],\n",
       "       [0]])"
      ]
     },
     "execution_count": 40,
     "metadata": {},
     "output_type": "execute_result"
    }
   ],
   "source": [
    "final_prediction=np.where(prediction>0.5,1,0)\n",
    "final_prediction"
   ]
  },
  {
   "cell_type": "code",
   "execution_count": 41,
   "id": "529da035",
   "metadata": {
    "execution": {
     "iopub.execute_input": "2024-01-31T21:56:56.141887Z",
     "iopub.status.busy": "2024-01-31T21:56:56.141509Z",
     "iopub.status.idle": "2024-01-31T21:56:56.164996Z",
     "shell.execute_reply": "2024-01-31T21:56:56.164101Z"
    },
    "papermill": {
     "duration": 0.239355,
     "end_time": "2024-01-31T21:56:56.167018",
     "exception": false,
     "start_time": "2024-01-31T21:56:55.927663",
     "status": "completed"
    },
    "tags": []
   },
   "outputs": [
    {
     "data": {
      "text/plain": [
       "0.8416512910936804"
      ]
     },
     "execution_count": 41,
     "metadata": {},
     "output_type": "execute_result"
    }
   ],
   "source": [
    "from sklearn.metrics import accuracy_score\n",
    "accuracy = accuracy_score(Y_test,final_prediction)\n",
    "accuracy"
   ]
  },
  {
   "cell_type": "code",
   "execution_count": null,
   "id": "b9f30b00",
   "metadata": {
    "papermill": {
     "duration": 0.257792,
     "end_time": "2024-01-31T21:56:56.636531",
     "exception": false,
     "start_time": "2024-01-31T21:56:56.378739",
     "status": "completed"
    },
    "tags": []
   },
   "outputs": [],
   "source": []
  },
  {
   "cell_type": "code",
   "execution_count": null,
   "id": "6e45f72b",
   "metadata": {
    "papermill": {
     "duration": 0.210547,
     "end_time": "2024-01-31T21:56:57.057521",
     "exception": false,
     "start_time": "2024-01-31T21:56:56.846974",
     "status": "completed"
    },
    "tags": []
   },
   "outputs": [],
   "source": [
    "\n"
   ]
  },
  {
   "cell_type": "code",
   "execution_count": null,
   "id": "b88005fe",
   "metadata": {
    "papermill": {
     "duration": 0.210191,
     "end_time": "2024-01-31T21:56:57.480249",
     "exception": false,
     "start_time": "2024-01-31T21:56:57.270058",
     "status": "completed"
    },
    "tags": []
   },
   "outputs": [],
   "source": []
  },
  {
   "cell_type": "code",
   "execution_count": null,
   "id": "c51a5cbc",
   "metadata": {
    "papermill": {
     "duration": 0.211188,
     "end_time": "2024-01-31T21:56:57.903222",
     "exception": false,
     "start_time": "2024-01-31T21:56:57.692034",
     "status": "completed"
    },
    "tags": []
   },
   "outputs": [],
   "source": []
  }
 ],
 "metadata": {
  "kaggle": {
   "accelerator": "gpu",
   "dataSources": [
    {
     "databundleVersionId": 7405009,
     "sourceId": 65711,
     "sourceType": "competition"
    }
   ],
   "dockerImageVersionId": 30646,
   "isGpuEnabled": true,
   "isInternetEnabled": true,
   "language": "python",
   "sourceType": "notebook"
  },
  "kernelspec": {
   "display_name": "Python 3",
   "language": "python",
   "name": "python3"
  },
  "language_info": {
   "codemirror_mode": {
    "name": "ipython",
    "version": 3
   },
   "file_extension": ".py",
   "mimetype": "text/x-python",
   "name": "python",
   "nbconvert_exporter": "python",
   "pygments_lexer": "ipython3",
   "version": "3.10.13"
  },
  "papermill": {
   "default_parameters": {},
   "duration": 173.364314,
   "end_time": "2024-01-31T21:57:00.504126",
   "environment_variables": {},
   "exception": null,
   "input_path": "__notebook__.ipynb",
   "output_path": "__notebook__.ipynb",
   "parameters": {},
   "start_time": "2024-01-31T21:54:07.139812",
   "version": "2.5.0"
  }
 },
 "nbformat": 4,
 "nbformat_minor": 5
}
